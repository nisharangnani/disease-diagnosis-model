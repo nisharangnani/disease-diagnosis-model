{
  "nbformat": 4,
  "nbformat_minor": 0,
  "metadata": {
    "colab": {
      "name": "nrangnan_HW4",
      "provenance": []
    },
    "kernelspec": {
      "name": "python3",
      "display_name": "Python 3"
    }
  },
  "cells": [
    {
      "cell_type": "code",
      "metadata": {
        "id": "NyuCENCnf_h2",
        "colab_type": "code",
        "outputId": "0f5a521a-3f09-4969-bcf4-8fa4b08ef18f",
        "colab": {
          "base_uri": "https://localhost:8080/",
          "height": 121
        }
      },
      "source": [
        "from google.colab import drive\n",
        "drive.mount('/content/gdrive', force_remount=True)"
      ],
      "execution_count": 3,
      "outputs": [
        {
          "output_type": "stream",
          "text": [
            "Go to this URL in a browser: https://accounts.google.com/o/oauth2/auth?client_id=947318989803-6bn6qk8qdgf4n4g3pfee6491hc0brc4i.apps.googleusercontent.com&redirect_uri=urn%3aietf%3awg%3aoauth%3a2.0%3aoob&response_type=code&scope=email%20https%3a%2f%2fwww.googleapis.com%2fauth%2fdocs.test%20https%3a%2f%2fwww.googleapis.com%2fauth%2fdrive%20https%3a%2f%2fwww.googleapis.com%2fauth%2fdrive.photos.readonly%20https%3a%2f%2fwww.googleapis.com%2fauth%2fpeopleapi.readonly\n",
            "\n",
            "Enter your authorization code:\n",
            "··········\n",
            "Mounted at /content/gdrive\n"
          ],
          "name": "stdout"
        }
      ]
    },
    {
      "cell_type": "markdown",
      "metadata": {
        "id": "z4LUGLaDQCh7",
        "colab_type": "text"
      },
      "source": [
        "#**IST 707 - HW4 - Statistical Learning, Deep Learning & A Complete Comparison**"
      ]
    },
    {
      "cell_type": "markdown",
      "metadata": {
        "id": "LOSBXpPbdvrg",
        "colab_type": "text"
      },
      "source": [
        "**Performed by Nisha Rangnani**\n",
        "\n",
        "**4/26/2020**"
      ]
    },
    {
      "cell_type": "markdown",
      "metadata": {
        "id": "DPTDVB42d-sA",
        "colab_type": "text"
      },
      "source": [
        "In this assignment, I'll be predicting if an individual has the disease or not in the given Test dataset. I would be implementing Logistic regression, Decision tree learning, Artificial Neural Network with 0, 1 and 2 hidden layers to achieve the prediction results."
      ]
    },
    {
      "cell_type": "code",
      "metadata": {
        "id": "biRcWPUlgMQm",
        "colab_type": "code",
        "colab": {
          "base_uri": "https://localhost:8080/",
          "height": 34
        },
        "outputId": "f1ae4b65-0676-404d-9ef7-f755acc518d8"
      },
      "source": [
        "import pandas as pd\n",
        "import numpy as np\n",
        "import matplotlib.pyplot as plt\n",
        "from sklearn.model_selection import train_test_split, GridSearchCV, cross_val_score, ShuffleSplit\n",
        "from sklearn import metrics\n",
        "from sklearn.metrics import accuracy_score, recall_score\n",
        "from sklearn.preprocessing import StandardScaler\n",
        "from sklearn.metrics import accuracy_score, roc_curve, auc\n",
        "from sklearn.linear_model import LogisticRegression\n",
        "from sklearn.pipeline import make_pipeline\n",
        "from keras import models\n",
        "from keras.models import Sequential\n",
        "from keras.layers import Dense \n",
        "from sklearn.tree import DecisionTreeClassifier"
      ],
      "execution_count": 4,
      "outputs": [
        {
          "output_type": "stream",
          "text": [
            "Using TensorFlow backend.\n"
          ],
          "name": "stderr"
        }
      ]
    },
    {
      "cell_type": "markdown",
      "metadata": {
        "id": "dLf0dGyzQVJx",
        "colab_type": "text"
      },
      "source": [
        "Import all the libraries required for processing. Then, read the training and testing datasets into appropriate dataframes."
      ]
    },
    {
      "cell_type": "code",
      "metadata": {
        "id": "0B-37HjXgXds",
        "colab_type": "code",
        "colab": {}
      },
      "source": [
        "DATASET_PATH = 'gdrive/My Drive/Nisha/MS_ADS/DA/'\n",
        "TRAIN_PATH = DATASET_PATH + 'disease_train.csv'\n",
        "TEST_PATH = DATASET_PATH + 'disease_test.csv'\n",
        "\n",
        "OUTPUT_COL = 'Disease'\n",
        "df_train = pd.read_csv(TRAIN_PATH)\n",
        "df_test = pd.read_csv(TEST_PATH)\n",
        "df_test_copy = df_test"
      ],
      "execution_count": 0,
      "outputs": []
    },
    {
      "cell_type": "markdown",
      "metadata": {
        "id": "Q3gfQMMeQrW7",
        "colab_type": "text"
      },
      "source": [
        "**Explore the training and testing dataframes.**"
      ]
    },
    {
      "cell_type": "code",
      "metadata": {
        "id": "iekHHMhWgfUc",
        "colab_type": "code",
        "outputId": "11638a62-8db4-4fde-c36e-67e8a8d2cfe3",
        "colab": {
          "base_uri": "https://localhost:8080/",
          "height": 34
        }
      },
      "source": [
        "df_train.shape"
      ],
      "execution_count": 6,
      "outputs": [
        {
          "output_type": "execute_result",
          "data": {
            "text/plain": [
              "(49000, 12)"
            ]
          },
          "metadata": {
            "tags": []
          },
          "execution_count": 6
        }
      ]
    },
    {
      "cell_type": "code",
      "metadata": {
        "id": "PtiZWsrRgj6I",
        "colab_type": "code",
        "outputId": "85e66bed-659e-4a61-f0dd-abc0a06cd43e",
        "colab": {
          "base_uri": "https://localhost:8080/",
          "height": 34
        }
      },
      "source": [
        "df_test.shape"
      ],
      "execution_count": 146,
      "outputs": [
        {
          "output_type": "execute_result",
          "data": {
            "text/plain": [
              "(21000, 12)"
            ]
          },
          "metadata": {
            "tags": []
          },
          "execution_count": 146
        }
      ]
    },
    {
      "cell_type": "code",
      "metadata": {
        "id": "2OLFKbAXgmdp",
        "colab_type": "code",
        "outputId": "585b6aa3-8c23-41c3-fb79-b153c85b7999",
        "colab": {
          "base_uri": "https://localhost:8080/",
          "height": 284
        }
      },
      "source": [
        "df_train.describe()"
      ],
      "execution_count": 147,
      "outputs": [
        {
          "output_type": "execute_result",
          "data": {
            "text/html": [
              "<div>\n",
              "<style scoped>\n",
              "    .dataframe tbody tr th:only-of-type {\n",
              "        vertical-align: middle;\n",
              "    }\n",
              "\n",
              "    .dataframe tbody tr th {\n",
              "        vertical-align: top;\n",
              "    }\n",
              "\n",
              "    .dataframe thead th {\n",
              "        text-align: right;\n",
              "    }\n",
              "</style>\n",
              "<table border=\"1\" class=\"dataframe\">\n",
              "  <thead>\n",
              "    <tr style=\"text-align: right;\">\n",
              "      <th></th>\n",
              "      <th>Age</th>\n",
              "      <th>Height</th>\n",
              "      <th>Weight</th>\n",
              "      <th>High Blood Pressure</th>\n",
              "      <th>Low Blood Pressure</th>\n",
              "      <th>Smoke</th>\n",
              "      <th>Alcohol</th>\n",
              "      <th>Exercise</th>\n",
              "      <th>Disease</th>\n",
              "    </tr>\n",
              "  </thead>\n",
              "  <tbody>\n",
              "    <tr>\n",
              "      <th>count</th>\n",
              "      <td>49000.000000</td>\n",
              "      <td>49000.000000</td>\n",
              "      <td>49000.000000</td>\n",
              "      <td>49000.000000</td>\n",
              "      <td>49000.000000</td>\n",
              "      <td>49000.000000</td>\n",
              "      <td>49000.000000</td>\n",
              "      <td>49000.000000</td>\n",
              "      <td>49000.000000</td>\n",
              "    </tr>\n",
              "    <tr>\n",
              "      <th>mean</th>\n",
              "      <td>52.853306</td>\n",
              "      <td>164.366878</td>\n",
              "      <td>74.190527</td>\n",
              "      <td>128.698939</td>\n",
              "      <td>96.917367</td>\n",
              "      <td>0.088265</td>\n",
              "      <td>0.054245</td>\n",
              "      <td>0.803204</td>\n",
              "      <td>0.499959</td>\n",
              "    </tr>\n",
              "    <tr>\n",
              "      <th>std</th>\n",
              "      <td>6.763065</td>\n",
              "      <td>8.216637</td>\n",
              "      <td>14.329934</td>\n",
              "      <td>147.624582</td>\n",
              "      <td>200.368069</td>\n",
              "      <td>0.283683</td>\n",
              "      <td>0.226503</td>\n",
              "      <td>0.397581</td>\n",
              "      <td>0.500005</td>\n",
              "    </tr>\n",
              "    <tr>\n",
              "      <th>min</th>\n",
              "      <td>29.000000</td>\n",
              "      <td>55.000000</td>\n",
              "      <td>10.000000</td>\n",
              "      <td>-150.000000</td>\n",
              "      <td>0.000000</td>\n",
              "      <td>0.000000</td>\n",
              "      <td>0.000000</td>\n",
              "      <td>0.000000</td>\n",
              "      <td>0.000000</td>\n",
              "    </tr>\n",
              "    <tr>\n",
              "      <th>25%</th>\n",
              "      <td>48.000000</td>\n",
              "      <td>159.000000</td>\n",
              "      <td>65.000000</td>\n",
              "      <td>120.000000</td>\n",
              "      <td>80.000000</td>\n",
              "      <td>0.000000</td>\n",
              "      <td>0.000000</td>\n",
              "      <td>1.000000</td>\n",
              "      <td>0.000000</td>\n",
              "    </tr>\n",
              "    <tr>\n",
              "      <th>50%</th>\n",
              "      <td>53.000000</td>\n",
              "      <td>165.000000</td>\n",
              "      <td>72.000000</td>\n",
              "      <td>120.000000</td>\n",
              "      <td>80.000000</td>\n",
              "      <td>0.000000</td>\n",
              "      <td>0.000000</td>\n",
              "      <td>1.000000</td>\n",
              "      <td>0.000000</td>\n",
              "    </tr>\n",
              "    <tr>\n",
              "      <th>75%</th>\n",
              "      <td>58.000000</td>\n",
              "      <td>170.000000</td>\n",
              "      <td>82.000000</td>\n",
              "      <td>140.000000</td>\n",
              "      <td>90.000000</td>\n",
              "      <td>0.000000</td>\n",
              "      <td>0.000000</td>\n",
              "      <td>1.000000</td>\n",
              "      <td>1.000000</td>\n",
              "    </tr>\n",
              "    <tr>\n",
              "      <th>max</th>\n",
              "      <td>64.000000</td>\n",
              "      <td>207.000000</td>\n",
              "      <td>200.000000</td>\n",
              "      <td>14020.000000</td>\n",
              "      <td>11000.000000</td>\n",
              "      <td>1.000000</td>\n",
              "      <td>1.000000</td>\n",
              "      <td>1.000000</td>\n",
              "      <td>1.000000</td>\n",
              "    </tr>\n",
              "  </tbody>\n",
              "</table>\n",
              "</div>"
            ],
            "text/plain": [
              "                Age        Height  ...      Exercise       Disease\n",
              "count  49000.000000  49000.000000  ...  49000.000000  49000.000000\n",
              "mean      52.853306    164.366878  ...      0.803204      0.499959\n",
              "std        6.763065      8.216637  ...      0.397581      0.500005\n",
              "min       29.000000     55.000000  ...      0.000000      0.000000\n",
              "25%       48.000000    159.000000  ...      1.000000      0.000000\n",
              "50%       53.000000    165.000000  ...      1.000000      0.000000\n",
              "75%       58.000000    170.000000  ...      1.000000      1.000000\n",
              "max       64.000000    207.000000  ...      1.000000      1.000000\n",
              "\n",
              "[8 rows x 9 columns]"
            ]
          },
          "metadata": {
            "tags": []
          },
          "execution_count": 147
        }
      ]
    },
    {
      "cell_type": "code",
      "metadata": {
        "id": "fMRgUrcqgp4D",
        "colab_type": "code",
        "outputId": "24115e28-42ca-4ecc-bac8-489db0975ea6",
        "colab": {
          "base_uri": "https://localhost:8080/",
          "height": 284
        }
      },
      "source": [
        "df_test.describe()"
      ],
      "execution_count": 148,
      "outputs": [
        {
          "output_type": "execute_result",
          "data": {
            "text/html": [
              "<div>\n",
              "<style scoped>\n",
              "    .dataframe tbody tr th:only-of-type {\n",
              "        vertical-align: middle;\n",
              "    }\n",
              "\n",
              "    .dataframe tbody tr th {\n",
              "        vertical-align: top;\n",
              "    }\n",
              "\n",
              "    .dataframe thead th {\n",
              "        text-align: right;\n",
              "    }\n",
              "</style>\n",
              "<table border=\"1\" class=\"dataframe\">\n",
              "  <thead>\n",
              "    <tr style=\"text-align: right;\">\n",
              "      <th></th>\n",
              "      <th>ID</th>\n",
              "      <th>Age</th>\n",
              "      <th>Height</th>\n",
              "      <th>Weight</th>\n",
              "      <th>High Blood Pressure</th>\n",
              "      <th>Low Blood Pressure</th>\n",
              "      <th>Smoke</th>\n",
              "      <th>Alcohol</th>\n",
              "      <th>Exercise</th>\n",
              "    </tr>\n",
              "  </thead>\n",
              "  <tbody>\n",
              "    <tr>\n",
              "      <th>count</th>\n",
              "      <td>21000.000000</td>\n",
              "      <td>21000.000000</td>\n",
              "      <td>21000.000000</td>\n",
              "      <td>21000.000000</td>\n",
              "      <td>21000.000000</td>\n",
              "      <td>21000.000000</td>\n",
              "      <td>21000.000000</td>\n",
              "      <td>21000.000000</td>\n",
              "      <td>21000.000000</td>\n",
              "    </tr>\n",
              "    <tr>\n",
              "      <th>mean</th>\n",
              "      <td>10499.500000</td>\n",
              "      <td>52.811190</td>\n",
              "      <td>164.341381</td>\n",
              "      <td>74.241070</td>\n",
              "      <td>129.093429</td>\n",
              "      <td>95.960857</td>\n",
              "      <td>0.087810</td>\n",
              "      <td>0.052667</td>\n",
              "      <td>0.804952</td>\n",
              "    </tr>\n",
              "    <tr>\n",
              "      <th>std</th>\n",
              "      <td>6062.322162</td>\n",
              "      <td>6.775489</td>\n",
              "      <td>8.195082</td>\n",
              "      <td>14.548468</td>\n",
              "      <td>167.975674</td>\n",
              "      <td>157.257409</td>\n",
              "      <td>0.283024</td>\n",
              "      <td>0.223372</td>\n",
              "      <td>0.396247</td>\n",
              "    </tr>\n",
              "    <tr>\n",
              "      <th>min</th>\n",
              "      <td>0.000000</td>\n",
              "      <td>29.000000</td>\n",
              "      <td>64.000000</td>\n",
              "      <td>21.000000</td>\n",
              "      <td>10.000000</td>\n",
              "      <td>-70.000000</td>\n",
              "      <td>0.000000</td>\n",
              "      <td>0.000000</td>\n",
              "      <td>0.000000</td>\n",
              "    </tr>\n",
              "    <tr>\n",
              "      <th>25%</th>\n",
              "      <td>5249.750000</td>\n",
              "      <td>48.000000</td>\n",
              "      <td>159.000000</td>\n",
              "      <td>65.000000</td>\n",
              "      <td>120.000000</td>\n",
              "      <td>80.000000</td>\n",
              "      <td>0.000000</td>\n",
              "      <td>0.000000</td>\n",
              "      <td>1.000000</td>\n",
              "    </tr>\n",
              "    <tr>\n",
              "      <th>50%</th>\n",
              "      <td>10499.500000</td>\n",
              "      <td>53.000000</td>\n",
              "      <td>165.000000</td>\n",
              "      <td>72.000000</td>\n",
              "      <td>120.000000</td>\n",
              "      <td>80.000000</td>\n",
              "      <td>0.000000</td>\n",
              "      <td>0.000000</td>\n",
              "      <td>1.000000</td>\n",
              "    </tr>\n",
              "    <tr>\n",
              "      <th>75%</th>\n",
              "      <td>15749.250000</td>\n",
              "      <td>58.000000</td>\n",
              "      <td>170.000000</td>\n",
              "      <td>82.000000</td>\n",
              "      <td>140.000000</td>\n",
              "      <td>90.000000</td>\n",
              "      <td>0.000000</td>\n",
              "      <td>0.000000</td>\n",
              "      <td>1.000000</td>\n",
              "    </tr>\n",
              "    <tr>\n",
              "      <th>max</th>\n",
              "      <td>20999.000000</td>\n",
              "      <td>64.000000</td>\n",
              "      <td>250.000000</td>\n",
              "      <td>183.000000</td>\n",
              "      <td>16020.000000</td>\n",
              "      <td>8500.000000</td>\n",
              "      <td>1.000000</td>\n",
              "      <td>1.000000</td>\n",
              "      <td>1.000000</td>\n",
              "    </tr>\n",
              "  </tbody>\n",
              "</table>\n",
              "</div>"
            ],
            "text/plain": [
              "                 ID           Age  ...       Alcohol      Exercise\n",
              "count  21000.000000  21000.000000  ...  21000.000000  21000.000000\n",
              "mean   10499.500000     52.811190  ...      0.052667      0.804952\n",
              "std     6062.322162      6.775489  ...      0.223372      0.396247\n",
              "min        0.000000     29.000000  ...      0.000000      0.000000\n",
              "25%     5249.750000     48.000000  ...      0.000000      1.000000\n",
              "50%    10499.500000     53.000000  ...      0.000000      1.000000\n",
              "75%    15749.250000     58.000000  ...      0.000000      1.000000\n",
              "max    20999.000000     64.000000  ...      1.000000      1.000000\n",
              "\n",
              "[8 rows x 9 columns]"
            ]
          },
          "metadata": {
            "tags": []
          },
          "execution_count": 148
        }
      ]
    },
    {
      "cell_type": "code",
      "metadata": {
        "id": "8JyEtP5mgvdx",
        "colab_type": "code",
        "outputId": "4b1c61f4-0c59-45cf-b01f-108ae5590f9a",
        "colab": {
          "base_uri": "https://localhost:8080/",
          "height": 254
        }
      },
      "source": [
        "df_train.head(7)"
      ],
      "execution_count": 149,
      "outputs": [
        {
          "output_type": "execute_result",
          "data": {
            "text/html": [
              "<div>\n",
              "<style scoped>\n",
              "    .dataframe tbody tr th:only-of-type {\n",
              "        vertical-align: middle;\n",
              "    }\n",
              "\n",
              "    .dataframe tbody tr th {\n",
              "        vertical-align: top;\n",
              "    }\n",
              "\n",
              "    .dataframe thead th {\n",
              "        text-align: right;\n",
              "    }\n",
              "</style>\n",
              "<table border=\"1\" class=\"dataframe\">\n",
              "  <thead>\n",
              "    <tr style=\"text-align: right;\">\n",
              "      <th></th>\n",
              "      <th>Age</th>\n",
              "      <th>Gender</th>\n",
              "      <th>Height</th>\n",
              "      <th>Weight</th>\n",
              "      <th>High Blood Pressure</th>\n",
              "      <th>Low Blood Pressure</th>\n",
              "      <th>Cholesterol</th>\n",
              "      <th>Glucose</th>\n",
              "      <th>Smoke</th>\n",
              "      <th>Alcohol</th>\n",
              "      <th>Exercise</th>\n",
              "      <th>Disease</th>\n",
              "    </tr>\n",
              "  </thead>\n",
              "  <tbody>\n",
              "    <tr>\n",
              "      <th>0</th>\n",
              "      <td>59</td>\n",
              "      <td>female</td>\n",
              "      <td>167</td>\n",
              "      <td>88.0</td>\n",
              "      <td>130</td>\n",
              "      <td>68</td>\n",
              "      <td>normal</td>\n",
              "      <td>normal</td>\n",
              "      <td>0</td>\n",
              "      <td>0</td>\n",
              "      <td>1</td>\n",
              "      <td>0</td>\n",
              "    </tr>\n",
              "    <tr>\n",
              "      <th>1</th>\n",
              "      <td>64</td>\n",
              "      <td>female</td>\n",
              "      <td>150</td>\n",
              "      <td>71.0</td>\n",
              "      <td>140</td>\n",
              "      <td>100</td>\n",
              "      <td>normal</td>\n",
              "      <td>normal</td>\n",
              "      <td>0</td>\n",
              "      <td>0</td>\n",
              "      <td>0</td>\n",
              "      <td>1</td>\n",
              "    </tr>\n",
              "    <tr>\n",
              "      <th>2</th>\n",
              "      <td>41</td>\n",
              "      <td>female</td>\n",
              "      <td>166</td>\n",
              "      <td>83.0</td>\n",
              "      <td>100</td>\n",
              "      <td>70</td>\n",
              "      <td>normal</td>\n",
              "      <td>normal</td>\n",
              "      <td>0</td>\n",
              "      <td>1</td>\n",
              "      <td>1</td>\n",
              "      <td>0</td>\n",
              "    </tr>\n",
              "    <tr>\n",
              "      <th>3</th>\n",
              "      <td>50</td>\n",
              "      <td>male</td>\n",
              "      <td>172</td>\n",
              "      <td>110.0</td>\n",
              "      <td>130</td>\n",
              "      <td>80</td>\n",
              "      <td>normal</td>\n",
              "      <td>normal</td>\n",
              "      <td>1</td>\n",
              "      <td>0</td>\n",
              "      <td>1</td>\n",
              "      <td>0</td>\n",
              "    </tr>\n",
              "    <tr>\n",
              "      <th>4</th>\n",
              "      <td>39</td>\n",
              "      <td>female</td>\n",
              "      <td>162</td>\n",
              "      <td>61.0</td>\n",
              "      <td>110</td>\n",
              "      <td>80</td>\n",
              "      <td>high</td>\n",
              "      <td>high</td>\n",
              "      <td>0</td>\n",
              "      <td>0</td>\n",
              "      <td>1</td>\n",
              "      <td>0</td>\n",
              "    </tr>\n",
              "    <tr>\n",
              "      <th>5</th>\n",
              "      <td>54</td>\n",
              "      <td>female</td>\n",
              "      <td>163</td>\n",
              "      <td>61.0</td>\n",
              "      <td>120</td>\n",
              "      <td>80</td>\n",
              "      <td>normal</td>\n",
              "      <td>normal</td>\n",
              "      <td>0</td>\n",
              "      <td>0</td>\n",
              "      <td>1</td>\n",
              "      <td>0</td>\n",
              "    </tr>\n",
              "    <tr>\n",
              "      <th>6</th>\n",
              "      <td>48</td>\n",
              "      <td>female</td>\n",
              "      <td>159</td>\n",
              "      <td>89.0</td>\n",
              "      <td>150</td>\n",
              "      <td>90</td>\n",
              "      <td>high</td>\n",
              "      <td>high</td>\n",
              "      <td>0</td>\n",
              "      <td>0</td>\n",
              "      <td>1</td>\n",
              "      <td>1</td>\n",
              "    </tr>\n",
              "  </tbody>\n",
              "</table>\n",
              "</div>"
            ],
            "text/plain": [
              "   Age  Gender  Height  Weight  ...  Smoke  Alcohol Exercise Disease\n",
              "0   59  female     167    88.0  ...      0        0        1       0\n",
              "1   64  female     150    71.0  ...      0        0        0       1\n",
              "2   41  female     166    83.0  ...      0        1        1       0\n",
              "3   50    male     172   110.0  ...      1        0        1       0\n",
              "4   39  female     162    61.0  ...      0        0        1       0\n",
              "5   54  female     163    61.0  ...      0        0        1       0\n",
              "6   48  female     159    89.0  ...      0        0        1       1\n",
              "\n",
              "[7 rows x 12 columns]"
            ]
          },
          "metadata": {
            "tags": []
          },
          "execution_count": 149
        }
      ]
    },
    {
      "cell_type": "markdown",
      "metadata": {
        "id": "ye1qlu0eQ-wL",
        "colab_type": "text"
      },
      "source": [
        "**Now let us explore and see if we have any missing values in our data.**"
      ]
    },
    {
      "cell_type": "code",
      "metadata": {
        "id": "3RQPyS4rg6Bz",
        "colab_type": "code",
        "outputId": "441b3729-b512-45e7-f88e-ef628538843b",
        "colab": {
          "base_uri": "https://localhost:8080/",
          "height": 235
        }
      },
      "source": [
        "df_train.isna().sum()"
      ],
      "execution_count": 150,
      "outputs": [
        {
          "output_type": "execute_result",
          "data": {
            "text/plain": [
              "Age                    0\n",
              "Gender                 0\n",
              "Height                 0\n",
              "Weight                 0\n",
              "High Blood Pressure    0\n",
              "Low Blood Pressure     0\n",
              "Cholesterol            0\n",
              "Glucose                0\n",
              "Smoke                  0\n",
              "Alcohol                0\n",
              "Exercise               0\n",
              "Disease                0\n",
              "dtype: int64"
            ]
          },
          "metadata": {
            "tags": []
          },
          "execution_count": 150
        }
      ]
    },
    {
      "cell_type": "code",
      "metadata": {
        "id": "o9Qn5ydehL0E",
        "colab_type": "code",
        "outputId": "2ae3714d-7ca0-472c-f95f-b35c504496a0",
        "colab": {
          "base_uri": "https://localhost:8080/",
          "height": 235
        }
      },
      "source": [
        "df_test.isna().sum()"
      ],
      "execution_count": 151,
      "outputs": [
        {
          "output_type": "execute_result",
          "data": {
            "text/plain": [
              "ID                     0\n",
              "Age                    0\n",
              "Gender                 0\n",
              "Height                 0\n",
              "Weight                 0\n",
              "High Blood Pressure    0\n",
              "Low Blood Pressure     0\n",
              "Cholesterol            0\n",
              "Glucose                0\n",
              "Smoke                  0\n",
              "Alcohol                0\n",
              "Exercise               0\n",
              "dtype: int64"
            ]
          },
          "metadata": {
            "tags": []
          },
          "execution_count": 151
        }
      ]
    },
    {
      "cell_type": "markdown",
      "metadata": {
        "id": "Z7ggA2eXRKCi",
        "colab_type": "text"
      },
      "source": [
        "**From above results, we can see that there are no missing values.**\n",
        "**Let us explore if we have any duplicate data.**"
      ]
    },
    {
      "cell_type": "code",
      "metadata": {
        "id": "ukXSz00rhuxT",
        "colab_type": "code",
        "outputId": "3d65bc56-da88-4258-ac26-c9e1f00beffc",
        "colab": {
          "base_uri": "https://localhost:8080/",
          "height": 195
        }
      },
      "source": [
        "df_train[df_train.duplicated(subset=None, keep='first')].head()"
      ],
      "execution_count": 7,
      "outputs": [
        {
          "output_type": "execute_result",
          "data": {
            "text/html": [
              "<div>\n",
              "<style scoped>\n",
              "    .dataframe tbody tr th:only-of-type {\n",
              "        vertical-align: middle;\n",
              "    }\n",
              "\n",
              "    .dataframe tbody tr th {\n",
              "        vertical-align: top;\n",
              "    }\n",
              "\n",
              "    .dataframe thead th {\n",
              "        text-align: right;\n",
              "    }\n",
              "</style>\n",
              "<table border=\"1\" class=\"dataframe\">\n",
              "  <thead>\n",
              "    <tr style=\"text-align: right;\">\n",
              "      <th></th>\n",
              "      <th>Age</th>\n",
              "      <th>Gender</th>\n",
              "      <th>Height</th>\n",
              "      <th>Weight</th>\n",
              "      <th>High Blood Pressure</th>\n",
              "      <th>Low Blood Pressure</th>\n",
              "      <th>Cholesterol</th>\n",
              "      <th>Glucose</th>\n",
              "      <th>Smoke</th>\n",
              "      <th>Alcohol</th>\n",
              "      <th>Exercise</th>\n",
              "      <th>Disease</th>\n",
              "    </tr>\n",
              "  </thead>\n",
              "  <tbody>\n",
              "    <tr>\n",
              "      <th>1278</th>\n",
              "      <td>40</td>\n",
              "      <td>female</td>\n",
              "      <td>156</td>\n",
              "      <td>65.0</td>\n",
              "      <td>110</td>\n",
              "      <td>80</td>\n",
              "      <td>normal</td>\n",
              "      <td>normal</td>\n",
              "      <td>0</td>\n",
              "      <td>0</td>\n",
              "      <td>1</td>\n",
              "      <td>0</td>\n",
              "    </tr>\n",
              "    <tr>\n",
              "      <th>1581</th>\n",
              "      <td>56</td>\n",
              "      <td>female</td>\n",
              "      <td>160</td>\n",
              "      <td>60.0</td>\n",
              "      <td>120</td>\n",
              "      <td>80</td>\n",
              "      <td>normal</td>\n",
              "      <td>normal</td>\n",
              "      <td>0</td>\n",
              "      <td>0</td>\n",
              "      <td>1</td>\n",
              "      <td>1</td>\n",
              "    </tr>\n",
              "    <tr>\n",
              "      <th>1901</th>\n",
              "      <td>54</td>\n",
              "      <td>female</td>\n",
              "      <td>170</td>\n",
              "      <td>80.0</td>\n",
              "      <td>120</td>\n",
              "      <td>80</td>\n",
              "      <td>normal</td>\n",
              "      <td>normal</td>\n",
              "      <td>0</td>\n",
              "      <td>0</td>\n",
              "      <td>1</td>\n",
              "      <td>0</td>\n",
              "    </tr>\n",
              "    <tr>\n",
              "      <th>2412</th>\n",
              "      <td>41</td>\n",
              "      <td>female</td>\n",
              "      <td>162</td>\n",
              "      <td>65.0</td>\n",
              "      <td>110</td>\n",
              "      <td>70</td>\n",
              "      <td>normal</td>\n",
              "      <td>normal</td>\n",
              "      <td>0</td>\n",
              "      <td>0</td>\n",
              "      <td>1</td>\n",
              "      <td>0</td>\n",
              "    </tr>\n",
              "    <tr>\n",
              "      <th>3027</th>\n",
              "      <td>56</td>\n",
              "      <td>female</td>\n",
              "      <td>169</td>\n",
              "      <td>70.0</td>\n",
              "      <td>120</td>\n",
              "      <td>80</td>\n",
              "      <td>normal</td>\n",
              "      <td>normal</td>\n",
              "      <td>0</td>\n",
              "      <td>0</td>\n",
              "      <td>1</td>\n",
              "      <td>0</td>\n",
              "    </tr>\n",
              "  </tbody>\n",
              "</table>\n",
              "</div>"
            ],
            "text/plain": [
              "      Age  Gender  Height  Weight  ...  Smoke  Alcohol Exercise Disease\n",
              "1278   40  female     156    65.0  ...      0        0        1       0\n",
              "1581   56  female     160    60.0  ...      0        0        1       1\n",
              "1901   54  female     170    80.0  ...      0        0        1       0\n",
              "2412   41  female     162    65.0  ...      0        0        1       0\n",
              "3027   56  female     169    70.0  ...      0        0        1       0\n",
              "\n",
              "[5 rows x 12 columns]"
            ]
          },
          "metadata": {
            "tags": []
          },
          "execution_count": 7
        }
      ]
    },
    {
      "cell_type": "markdown",
      "metadata": {
        "id": "ZAJBzCzxjEhY",
        "colab_type": "text"
      },
      "source": [
        "**We can see that there are 1752 duplicate rows.**\n",
        "**So, let us deal with duplicates by dropping them.**"
      ]
    },
    {
      "cell_type": "code",
      "metadata": {
        "id": "9oR1rV1BizF2",
        "colab_type": "code",
        "colab": {}
      },
      "source": [
        "df_train.drop_duplicates(keep='first',inplace=True)"
      ],
      "execution_count": 0,
      "outputs": []
    },
    {
      "cell_type": "code",
      "metadata": {
        "id": "o8L7UT0SjC_a",
        "colab_type": "code",
        "outputId": "2f06b498-94b1-4ac3-f23b-ed9242bde552",
        "colab": {
          "base_uri": "https://localhost:8080/",
          "height": 47
        }
      },
      "source": [
        "df_train[df_train.duplicated(subset=None, keep='first')]"
      ],
      "execution_count": 9,
      "outputs": [
        {
          "output_type": "execute_result",
          "data": {
            "text/html": [
              "<div>\n",
              "<style scoped>\n",
              "    .dataframe tbody tr th:only-of-type {\n",
              "        vertical-align: middle;\n",
              "    }\n",
              "\n",
              "    .dataframe tbody tr th {\n",
              "        vertical-align: top;\n",
              "    }\n",
              "\n",
              "    .dataframe thead th {\n",
              "        text-align: right;\n",
              "    }\n",
              "</style>\n",
              "<table border=\"1\" class=\"dataframe\">\n",
              "  <thead>\n",
              "    <tr style=\"text-align: right;\">\n",
              "      <th></th>\n",
              "      <th>Age</th>\n",
              "      <th>Gender</th>\n",
              "      <th>Height</th>\n",
              "      <th>Weight</th>\n",
              "      <th>High Blood Pressure</th>\n",
              "      <th>Low Blood Pressure</th>\n",
              "      <th>Cholesterol</th>\n",
              "      <th>Glucose</th>\n",
              "      <th>Smoke</th>\n",
              "      <th>Alcohol</th>\n",
              "      <th>Exercise</th>\n",
              "      <th>Disease</th>\n",
              "    </tr>\n",
              "  </thead>\n",
              "  <tbody>\n",
              "  </tbody>\n",
              "</table>\n",
              "</div>"
            ],
            "text/plain": [
              "Empty DataFrame\n",
              "Columns: [Age, Gender, Height, Weight, High Blood Pressure, Low Blood Pressure, Cholesterol, Glucose, Smoke, Alcohol, Exercise, Disease]\n",
              "Index: []"
            ]
          },
          "metadata": {
            "tags": []
          },
          "execution_count": 9
        }
      ]
    },
    {
      "cell_type": "markdown",
      "metadata": {
        "id": "NMjaAu2PjYdG",
        "colab_type": "text"
      },
      "source": [
        "**From above result we can note that there are no more duplicates left.**"
      ]
    },
    {
      "cell_type": "markdown",
      "metadata": {
        "id": "-b4GMaq-jhnX",
        "colab_type": "text"
      },
      "source": [
        "**Let's store ID's separately and drop them from test set to be able to proceed for model building activities.**"
      ]
    },
    {
      "cell_type": "code",
      "metadata": {
        "id": "6WrTVwiBtexl",
        "colab_type": "code",
        "colab": {}
      },
      "source": [
        "df_IDs = df_test['ID']\n",
        "df_test = df_test.loc[:, df_test.columns != 'ID']"
      ],
      "execution_count": 0,
      "outputs": []
    },
    {
      "cell_type": "markdown",
      "metadata": {
        "id": "Xn5ow9ZBk_Tj",
        "colab_type": "text"
      },
      "source": [
        "**From describe(), we can see that Low Blood Pressure and High Blood Pressure fields have strange values.** \n",
        "**We can see that even have negative values for BP in train as well as test set.** \n",
        "**From the research performed on BP range, we can set Lower BP range as 30-180 and higher BP range as 80-220 and transform data accordingly.** \n",
        "**Since we have decided upon a range, if the number is outside the range, we can simply trim it.**"
      ]
    },
    {
      "cell_type": "code",
      "metadata": {
        "id": "0OeTwAqXjZt1",
        "colab_type": "code",
        "colab": {}
      },
      "source": [
        "df_train['High Blood Pressure'].clip(lower = 80, upper = 220, inplace = True)"
      ],
      "execution_count": 0,
      "outputs": []
    },
    {
      "cell_type": "code",
      "metadata": {
        "id": "LytHaN4xjodc",
        "colab_type": "code",
        "colab": {}
      },
      "source": [
        "df_train['Low Blood Pressure'].clip(lower = 30, upper = 180, inplace = True)"
      ],
      "execution_count": 0,
      "outputs": []
    },
    {
      "cell_type": "code",
      "metadata": {
        "id": "pj-GUYdJlh6E",
        "colab_type": "code",
        "colab": {
          "base_uri": "https://localhost:8080/",
          "height": 101
        },
        "outputId": "9d063d7a-8cc5-46f0-bc58-2c3682c1c29e"
      },
      "source": [
        "df_test['High Blood Pressure'].clip(lower = 80, upper = 220, inplace = True)\n",
        "df_test['Low Blood Pressure'].clip(lower = 30, upper = 180, inplace = True)"
      ],
      "execution_count": 13,
      "outputs": [
        {
          "output_type": "stream",
          "text": [
            "/usr/local/lib/python3.6/dist-packages/pandas/core/generic.py:7363: SettingWithCopyWarning: \n",
            "A value is trying to be set on a copy of a slice from a DataFrame\n",
            "\n",
            "See the caveats in the documentation: https://pandas.pydata.org/pandas-docs/stable/user_guide/indexing.html#returning-a-view-versus-a-copy\n",
            "  self._update_inplace(result)\n"
          ],
          "name": "stderr"
        }
      ]
    },
    {
      "cell_type": "markdown",
      "metadata": {
        "id": "ursSuMSiogMt",
        "colab_type": "text"
      },
      "source": [
        "**Let us now deal with noisy data - where High Blood Pressure is lesser than Low BP.**\n"
      ]
    },
    {
      "cell_type": "markdown",
      "metadata": {
        "id": "RzYPV9g8o3qv",
        "colab_type": "text"
      },
      "source": [
        "**For cases where High BP is lesser than Low BP, it has most probably happened due an error in data entry. That is, by mistake Low BP was entered in place of High BP and vice versa. Thus, lets write a function to check High BP and Low BP values, and swap them wherever necessary.**"
      ]
    },
    {
      "cell_type": "code",
      "metadata": {
        "id": "rkbPItntjqgG",
        "colab_type": "code",
        "colab": {}
      },
      "source": [
        "def col_switch_lowHighBP(df):\n",
        "  index=df.index\n",
        "  l=len(index)\n",
        "  for i in range(0,l):\n",
        "    if(df.iloc[i]['High Blood Pressure']<df.iloc[i]['Low Blood Pressure']):\n",
        "      temp = df.iloc[i]['High Blood Pressure']\n",
        "      df.iloc[i]['High Blood Pressure'] = df.iloc[i]['Low Blood Pressure']\n",
        "      df.iloc[i]['Low Blood Pressure'] = temp\n"
      ],
      "execution_count": 0,
      "outputs": []
    },
    {
      "cell_type": "code",
      "metadata": {
        "id": "maaqpTnXr-iL",
        "colab_type": "code",
        "outputId": "6df6fff0-f78d-4a15-b0a8-18fcdf423a5b",
        "colab": {
          "base_uri": "https://localhost:8080/",
          "height": 185
        }
      },
      "source": [
        "col_switch_lowHighBP(df_train)\n",
        "col_switch_lowHighBP(df_test)"
      ],
      "execution_count": 15,
      "outputs": [
        {
          "output_type": "stream",
          "text": [
            "/usr/local/lib/python3.6/dist-packages/ipykernel_launcher.py:7: SettingWithCopyWarning: \n",
            "A value is trying to be set on a copy of a slice from a DataFrame\n",
            "\n",
            "See the caveats in the documentation: https://pandas.pydata.org/pandas-docs/stable/user_guide/indexing.html#returning-a-view-versus-a-copy\n",
            "  import sys\n",
            "/usr/local/lib/python3.6/dist-packages/ipykernel_launcher.py:8: SettingWithCopyWarning: \n",
            "A value is trying to be set on a copy of a slice from a DataFrame\n",
            "\n",
            "See the caveats in the documentation: https://pandas.pydata.org/pandas-docs/stable/user_guide/indexing.html#returning-a-view-versus-a-copy\n",
            "  \n"
          ],
          "name": "stderr"
        }
      ]
    },
    {
      "cell_type": "markdown",
      "metadata": {
        "id": "CpwO6GVepeUy",
        "colab_type": "text"
      },
      "source": [
        "**Below section is introduced specifically for running decision tree classifier.** \n",
        "**Store train and test DF for Decision Tree separately.**\n",
        "**Convert categorical data to numerical and feed it to the classifier.**"
      ]
    },
    {
      "cell_type": "code",
      "metadata": {
        "id": "7m3xPgW5Daqf",
        "colab_type": "code",
        "colab": {
          "base_uri": "https://localhost:8080/",
          "height": 101
        },
        "outputId": "58cd1a4f-538f-4190-9209-e31419005bb1"
      },
      "source": [
        "df_train_dt = df_train\n",
        "df_test_dt = df_test\n",
        "df_train_dt['Gender'].replace('female',1,inplace=True)\n",
        "df_train_dt['Gender'].replace('male',0,inplace=True)\n",
        "df_test_dt['Gender'].replace('female',1,inplace=True)\n",
        "df_test_dt['Gender'].replace('male',0,inplace=True)\n",
        "df_train_dt['Cholesterol'].replace(['normal','high','too high'],[1,2,3],inplace=True)\n",
        "df_train_dt['Glucose'].replace(['normal','high','too high'],[1,2,3],inplace=True)\n",
        "df_test_dt['Cholesterol'].replace(['normal','high','too high'],[1,2,3],inplace=True)\n",
        "df_test_dt['Glucose'].replace(['normal','high','too high'],[1,2,3],inplace=True)"
      ],
      "execution_count": 162,
      "outputs": [
        {
          "output_type": "stream",
          "text": [
            "/usr/local/lib/python3.6/dist-packages/pandas/core/generic.py:6746: SettingWithCopyWarning: \n",
            "A value is trying to be set on a copy of a slice from a DataFrame\n",
            "\n",
            "See the caveats in the documentation: https://pandas.pydata.org/pandas-docs/stable/user_guide/indexing.html#returning-a-view-versus-a-copy\n",
            "  self._update_inplace(new_data)\n"
          ],
          "name": "stderr"
        }
      ]
    },
    {
      "cell_type": "markdown",
      "metadata": {
        "id": "wWPFdbR_qqFG",
        "colab_type": "text"
      },
      "source": [
        "## Exploratory Data Analysis"
      ]
    },
    {
      "cell_type": "code",
      "metadata": {
        "id": "UC90FOCU_N29",
        "colab_type": "code",
        "colab": {
          "base_uri": "https://localhost:8080/",
          "height": 296
        },
        "outputId": "b831282a-9900-4d4a-dd21-98f895af7724"
      },
      "source": [
        "import seaborn as sns\n",
        "sns.boxplot(x=df_train['Disease'], y=df_train['Age'])"
      ],
      "execution_count": 163,
      "outputs": [
        {
          "output_type": "execute_result",
          "data": {
            "text/plain": [
              "<matplotlib.axes._subplots.AxesSubplot at 0x7fc8f9d1c7b8>"
            ]
          },
          "metadata": {
            "tags": []
          },
          "execution_count": 163
        },
        {
          "output_type": "display_data",
          "data": {
            "image/png": "[encoded data removed]",
            "text/plain": [
              "<Figure size 432x288 with 1 Axes>"
            ]
          },
          "metadata": {
            "tags": [],
            "needs_background": "light"
          }
        }
      ]
    },
    {
      "cell_type": "markdown",
      "metadata": {
        "id": "3AlwQPDUqwV3",
        "colab_type": "text"
      },
      "source": [
        "**I explored Age variable for both Disease=Yes and No (1,0). From above plot, we can observe that usually, overall age is higher in case of Disease being present. For younger age people, we see that the disease is absent.**"
      ]
    },
    {
      "cell_type": "code",
      "metadata": {
        "id": "W1Uk1gO8LuQI",
        "colab_type": "code",
        "colab": {
          "base_uri": "https://localhost:8080/",
          "height": 296
        },
        "outputId": "cc1e04ef-1708-45d4-d218-33a272dea628"
      },
      "source": [
        "sns.boxplot(x=df_train['Disease'], y=df_train['High Blood Pressure'])"
      ],
      "execution_count": 164,
      "outputs": [
        {
          "output_type": "execute_result",
          "data": {
            "text/plain": [
              "<matplotlib.axes._subplots.AxesSubplot at 0x7fc8f9d1c048>"
            ]
          },
          "metadata": {
            "tags": []
          },
          "execution_count": 164
        },
        {
          "output_type": "display_data",
          "data": {
            "image/png": "[encoded data removed]",
            "text/plain": [
              "<Figure size 432x288 with 1 Axes>"
            ]
          },
          "metadata": {
            "tags": [],
            "needs_background": "light"
          }
        }
      ]
    },
    {
      "cell_type": "markdown",
      "metadata": {
        "id": "Yxn5CY3mrbky",
        "colab_type": "text"
      },
      "source": [
        "**On exploring Disease with respect to the High Blood Pressure data, we can note that in case of Disease = Yes(=1), mean of High BP is significantly higher than in case of Disease = No.**\n",
        "**Thus, as High BP rises, the risk of getting the disease is likely to rise.**"
      ]
    },
    {
      "cell_type": "code",
      "metadata": {
        "id": "8leZTWXDuBoc",
        "colab_type": "code",
        "colab": {
          "base_uri": "https://localhost:8080/",
          "height": 297
        },
        "outputId": "28c6daf8-c8db-4fdb-e256-4b1332c9e32a"
      },
      "source": [
        "sns.countplot(data=df_train, x='Gender', hue='Disease')"
      ],
      "execution_count": 165,
      "outputs": [
        {
          "output_type": "execute_result",
          "data": {
            "text/plain": [
              "<matplotlib.axes._subplots.AxesSubplot at 0x7fc8fa0b9c18>"
            ]
          },
          "metadata": {
            "tags": []
          },
          "execution_count": 165
        },
        {
          "output_type": "display_data",
          "data": {
            "image/png": "[encoded data removed]",
            "text/plain": [
              "<Figure size 432x288 with 1 Axes>"
            ]
          },
          "metadata": {
            "tags": [],
            "needs_background": "light"
          }
        }
      ]
    },
    {
      "cell_type": "markdown",
      "metadata": {
        "id": "I4Gid18RvPZ9",
        "colab_type": "text"
      },
      "source": [
        "**On exploring the dataset in terms of Disease and Gender, we can see that for both genders, count of getting the disease is higher individually. Also, from the overall chart, we have more female patient records than males.**"
      ]
    },
    {
      "cell_type": "code",
      "metadata": {
        "id": "xXATr0jgXWtq",
        "colab_type": "code",
        "colab": {
          "base_uri": "https://localhost:8080/",
          "height": 298
        },
        "outputId": "1e74eb01-873a-41f9-b790-0a604b6994bf"
      },
      "source": [
        "sns.countplot(data=df_train, x='Cholesterol', hue='Disease')"
      ],
      "execution_count": 166,
      "outputs": [
        {
          "output_type": "execute_result",
          "data": {
            "text/plain": [
              "<matplotlib.axes._subplots.AxesSubplot at 0x7fc8f9a4e828>"
            ]
          },
          "metadata": {
            "tags": []
          },
          "execution_count": 166
        },
        {
          "output_type": "display_data",
          "data": {
            "image/png": "[encoded data removed]",
            "text/plain": [
              "<Figure size 432x288 with 1 Axes>"
            ]
          },
          "metadata": {
            "tags": [],
            "needs_background": "light"
          }
        }
      ]
    },
    {
      "cell_type": "markdown",
      "metadata": {
        "id": "x4kGvdxOvviL",
        "colab_type": "text"
      },
      "source": [
        "**From above plot, we can understand that when cholesterol level is Normal, more patients do NOT have the disease. But in case of High and and very high cholesterol, more patients tend to get the disease. When cholesterol level is  'too high', most patients are detected with the disease.** "
      ]
    },
    {
      "cell_type": "code",
      "metadata": {
        "id": "IQLdV3nfXih4",
        "colab_type": "code",
        "colab": {
          "base_uri": "https://localhost:8080/",
          "height": 296
        },
        "outputId": "2dfc0ba9-654f-4c05-e487-ab3a73a74407"
      },
      "source": [
        "sns.countplot(data=df_train, x='Glucose', hue='Disease')"
      ],
      "execution_count": 167,
      "outputs": [
        {
          "output_type": "execute_result",
          "data": {
            "text/plain": [
              "<matplotlib.axes._subplots.AxesSubplot at 0x7fc8fb481588>"
            ]
          },
          "metadata": {
            "tags": []
          },
          "execution_count": 167
        },
        {
          "output_type": "display_data",
          "data": {
            "image/png": "[encoded data removed]",
            "text/plain": [
              "<Figure size 432x288 with 1 Axes>"
            ]
          },
          "metadata": {
            "tags": [],
            "needs_background": "light"
          }
        }
      ]
    },
    {
      "cell_type": "markdown",
      "metadata": {
        "id": "7eMhevRL4R1-",
        "colab_type": "text"
      },
      "source": [
        "**Similar to cholesterol level, when glucose level is normal, more patients do not have the disease as compared to patients having the disease. But when glucose level goes to high and too high, more percentage of people have the disease.**"
      ]
    },
    {
      "cell_type": "markdown",
      "metadata": {
        "id": "imsgQjGs4poS",
        "colab_type": "text"
      },
      "source": [
        "**Now that we have explored our data, let us create dummy variables in order to get rid of categorical variables and get our data ready for Logistic regression and artificial neural networks.**"
      ]
    },
    {
      "cell_type": "code",
      "metadata": {
        "id": "Kt4iIAh-u71J",
        "colab_type": "code",
        "colab": {
          "base_uri": "https://localhost:8080/",
          "height": 212
        },
        "outputId": "ebebff06-135f-4d05-bb46-db15733f82be"
      },
      "source": [
        "dummyVar=['Gender','Cholesterol','Glucose']\n",
        "df_train = pd.get_dummies(df_train, columns=dummyVar, prefix_sep=\"-\")\n",
        "df_train.head()"
      ],
      "execution_count": 16,
      "outputs": [
        {
          "output_type": "execute_result",
          "data": {
            "text/html": [
              "<div>\n",
              "<style scoped>\n",
              "    .dataframe tbody tr th:only-of-type {\n",
              "        vertical-align: middle;\n",
              "    }\n",
              "\n",
              "    .dataframe tbody tr th {\n",
              "        vertical-align: top;\n",
              "    }\n",
              "\n",
              "    .dataframe thead th {\n",
              "        text-align: right;\n",
              "    }\n",
              "</style>\n",
              "<table border=\"1\" class=\"dataframe\">\n",
              "  <thead>\n",
              "    <tr style=\"text-align: right;\">\n",
              "      <th></th>\n",
              "      <th>Age</th>\n",
              "      <th>Height</th>\n",
              "      <th>Weight</th>\n",
              "      <th>High Blood Pressure</th>\n",
              "      <th>Low Blood Pressure</th>\n",
              "      <th>Smoke</th>\n",
              "      <th>Alcohol</th>\n",
              "      <th>Exercise</th>\n",
              "      <th>Disease</th>\n",
              "      <th>Gender-female</th>\n",
              "      <th>Gender-male</th>\n",
              "      <th>Cholesterol-high</th>\n",
              "      <th>Cholesterol-normal</th>\n",
              "      <th>Cholesterol-too high</th>\n",
              "      <th>Glucose-high</th>\n",
              "      <th>Glucose-normal</th>\n",
              "      <th>Glucose-too high</th>\n",
              "    </tr>\n",
              "  </thead>\n",
              "  <tbody>\n",
              "    <tr>\n",
              "      <th>0</th>\n",
              "      <td>59</td>\n",
              "      <td>167</td>\n",
              "      <td>88.0</td>\n",
              "      <td>130</td>\n",
              "      <td>68</td>\n",
              "      <td>0</td>\n",
              "      <td>0</td>\n",
              "      <td>1</td>\n",
              "      <td>0</td>\n",
              "      <td>1</td>\n",
              "      <td>0</td>\n",
              "      <td>0</td>\n",
              "      <td>1</td>\n",
              "      <td>0</td>\n",
              "      <td>0</td>\n",
              "      <td>1</td>\n",
              "      <td>0</td>\n",
              "    </tr>\n",
              "    <tr>\n",
              "      <th>1</th>\n",
              "      <td>64</td>\n",
              "      <td>150</td>\n",
              "      <td>71.0</td>\n",
              "      <td>140</td>\n",
              "      <td>100</td>\n",
              "      <td>0</td>\n",
              "      <td>0</td>\n",
              "      <td>0</td>\n",
              "      <td>1</td>\n",
              "      <td>1</td>\n",
              "      <td>0</td>\n",
              "      <td>0</td>\n",
              "      <td>1</td>\n",
              "      <td>0</td>\n",
              "      <td>0</td>\n",
              "      <td>1</td>\n",
              "      <td>0</td>\n",
              "    </tr>\n",
              "    <tr>\n",
              "      <th>2</th>\n",
              "      <td>41</td>\n",
              "      <td>166</td>\n",
              "      <td>83.0</td>\n",
              "      <td>100</td>\n",
              "      <td>70</td>\n",
              "      <td>0</td>\n",
              "      <td>1</td>\n",
              "      <td>1</td>\n",
              "      <td>0</td>\n",
              "      <td>1</td>\n",
              "      <td>0</td>\n",
              "      <td>0</td>\n",
              "      <td>1</td>\n",
              "      <td>0</td>\n",
              "      <td>0</td>\n",
              "      <td>1</td>\n",
              "      <td>0</td>\n",
              "    </tr>\n",
              "    <tr>\n",
              "      <th>3</th>\n",
              "      <td>50</td>\n",
              "      <td>172</td>\n",
              "      <td>110.0</td>\n",
              "      <td>130</td>\n",
              "      <td>80</td>\n",
              "      <td>1</td>\n",
              "      <td>0</td>\n",
              "      <td>1</td>\n",
              "      <td>0</td>\n",
              "      <td>0</td>\n",
              "      <td>1</td>\n",
              "      <td>0</td>\n",
              "      <td>1</td>\n",
              "      <td>0</td>\n",
              "      <td>0</td>\n",
              "      <td>1</td>\n",
              "      <td>0</td>\n",
              "    </tr>\n",
              "    <tr>\n",
              "      <th>4</th>\n",
              "      <td>39</td>\n",
              "      <td>162</td>\n",
              "      <td>61.0</td>\n",
              "      <td>110</td>\n",
              "      <td>80</td>\n",
              "      <td>0</td>\n",
              "      <td>0</td>\n",
              "      <td>1</td>\n",
              "      <td>0</td>\n",
              "      <td>1</td>\n",
              "      <td>0</td>\n",
              "      <td>1</td>\n",
              "      <td>0</td>\n",
              "      <td>0</td>\n",
              "      <td>1</td>\n",
              "      <td>0</td>\n",
              "      <td>0</td>\n",
              "    </tr>\n",
              "  </tbody>\n",
              "</table>\n",
              "</div>"
            ],
            "text/plain": [
              "   Age  Height  Weight  ...  Glucose-high  Glucose-normal  Glucose-too high\n",
              "0   59     167    88.0  ...             0               1                 0\n",
              "1   64     150    71.0  ...             0               1                 0\n",
              "2   41     166    83.0  ...             0               1                 0\n",
              "3   50     172   110.0  ...             0               1                 0\n",
              "4   39     162    61.0  ...             1               0                 0\n",
              "\n",
              "[5 rows x 17 columns]"
            ]
          },
          "metadata": {
            "tags": []
          },
          "execution_count": 16
        }
      ]
    },
    {
      "cell_type": "markdown",
      "metadata": {
        "id": "tEXeYJhf4-G7",
        "colab_type": "text"
      },
      "source": [
        "From above table we can understand that dummy variable columns were created from Gender, cholesterol and glucose attributes and their original columns were dropped. Same is performed below for the test dataset as well."
      ]
    },
    {
      "cell_type": "code",
      "metadata": {
        "id": "SCFwGsd4v_kl",
        "colab_type": "code",
        "colab": {}
      },
      "source": [
        "df_test = pd.get_dummies(df_test, columns=dummyVar, prefix_sep=\"-\")"
      ],
      "execution_count": 0,
      "outputs": []
    },
    {
      "cell_type": "markdown",
      "metadata": {
        "id": "jOQxfK9k5TKS",
        "colab_type": "text"
      },
      "source": [
        "**Now that our data is ready for our machine learning models, lets split it into train-test validation set in 70:30 ratio so that we're able to judge our model performance.**\n",
        "**Apply LogisticRegrssion() to the train set obtained and predict values for the remaining 30% test set.** "
      ]
    },
    {
      "cell_type": "code",
      "metadata": {
        "id": "RFYD682Df5W2",
        "colab_type": "code",
        "colab": {
          "base_uri": "https://localhost:8080/",
          "height": 34
        },
        "outputId": "de7ba32b-f17d-4dab-a457-f0661309e58c"
      },
      "source": [
        "X = df_train.drop('Disease', axis=1)\n",
        "y = df_train['Disease']\n",
        "X_train, X_test, y_train, y_test = train_test_split(X, y, test_size=0.3, random_state=16)\n",
        "logr_pipe = make_pipeline(StandardScaler(), LogisticRegression(solver='lbfgs'))\n",
        "logr_pipe.fit(X_train,y_train)\n",
        "y_pred = logr_pipe.predict(X_test)\n",
        "print(accuracy_score(y_test, y_pred))"
      ],
      "execution_count": 18,
      "outputs": [
        {
          "output_type": "stream",
          "text": [
            "0.731710758377425\n"
          ],
          "name": "stdout"
        }
      ]
    },
    {
      "cell_type": "markdown",
      "metadata": {
        "id": "Ng5YRQEw7ghB",
        "colab_type": "text"
      },
      "source": [
        "**We obtained an accuracy of 73.17% for our default LR(). Let's obtain the recall_score for the same.  Since we're dealing with Disease prediction problem, I'll go ahead with measuring Recall for model evaluation, as to predict if the person has the disease. Here, we can afford to have False positives. False negatives (predicting that they do not have disease, and end up having the disease) is more harmful here.**"
      ]
    },
    {
      "cell_type": "code",
      "metadata": {
        "id": "Cyw92nVoi_Au",
        "colab_type": "code",
        "colab": {
          "base_uri": "https://localhost:8080/",
          "height": 34
        },
        "outputId": "84fdc76a-9498-4433-f10c-49aca3f4a0a9"
      },
      "source": [
        "print(recall_score(y_test, y_pred))"
      ],
      "execution_count": 173,
      "outputs": [
        {
          "output_type": "stream",
          "text": [
            "0.6915849108746718\n"
          ],
          "name": "stdout"
        }
      ]
    },
    {
      "cell_type": "markdown",
      "metadata": {
        "id": "Af2j5QuP7-IA",
        "colab_type": "text"
      },
      "source": [
        "### **Hyperparameter tuning**\n"
      ]
    },
    {
      "cell_type": "code",
      "metadata": {
        "id": "Px_SnNQVzx6z",
        "colab_type": "code",
        "colab": {
          "base_uri": "https://localhost:8080/",
          "height": 34
        },
        "outputId": "78a2a07a-80f3-4109-e55a-451fc658ee34"
      },
      "source": [
        "logr= LogisticRegression()\n",
        "parametersLogr = {'penalty':['l1','l2','elasticnet','none'],'solver': ['liblinear','newton-cg','lbfgs','sag','saga'],'C':[0.01,0.1,1,11.1], 'multi_class':['auto', 'ovr', 'multinomial']}\n",
        "logr_grid = GridSearchCV(logr, parametersLogr, n_jobs=-1, cv=4)\n",
        "\n",
        "logr_grid.fit(X,y)\n",
        "logr_grid.best_params_"
      ],
      "execution_count": 174,
      "outputs": [
        {
          "output_type": "execute_result",
          "data": {
            "text/plain": [
              "{'C': 1, 'multi_class': 'ovr', 'penalty': 'l1', 'solver': 'liblinear'}"
            ]
          },
          "metadata": {
            "tags": []
          },
          "execution_count": 174
        }
      ]
    },
    {
      "cell_type": "markdown",
      "metadata": {
        "id": "4HmO2N1M8KY0",
        "colab_type": "text"
      },
      "source": [
        "**Now that we have our best performing parameters - lets calculate the accuracy score again. Post this, we can go ahead with predicting the class variable for our actual testing dataset.**"
      ]
    },
    {
      "cell_type": "markdown",
      "metadata": {
        "id": "zZkFMjbI8b8d",
        "colab_type": "text"
      },
      "source": [
        "**Here's the summary of default values taken for LogisticRegression() and values for parameters obtained after GridSearch optimization along with their respective accuracies.**\n",
        "\n",
        "**[parameters : accuracy]**\n",
        "\n",
        "**1. LogisticRegression(solver='lgbfs') : 73.17% .** \n",
        "\n",
        "**2. {C:1, multi_class:'ovr', penalty:'l1', solver:'liblinear'} : 73.21%**"
      ]
    },
    {
      "cell_type": "code",
      "metadata": {
        "id": "mw3LTKQ77K3J",
        "colab_type": "code",
        "colab": {
          "base_uri": "https://localhost:8080/",
          "height": 34
        },
        "outputId": "26a11c1a-95fc-4455-c5b0-fd10629069fd"
      },
      "source": [
        "logr_grid.fit(X_train,y_train)\n",
        "y_pred = logr_grid.predict(X_test)\n",
        "print(accuracy_score(y_test, y_pred))"
      ],
      "execution_count": 175,
      "outputs": [
        {
          "output_type": "stream",
          "text": [
            "0.7321340388007055\n"
          ],
          "name": "stdout"
        }
      ]
    },
    {
      "cell_type": "code",
      "metadata": {
        "id": "HZgShzW3se1W",
        "colab_type": "code",
        "colab": {}
      },
      "source": [
        "logr_pred = logr_grid.predict(df_test)"
      ],
      "execution_count": 0,
      "outputs": []
    },
    {
      "cell_type": "markdown",
      "metadata": {
        "id": "TnpXVnXW9Zu5",
        "colab_type": "text"
      },
      "source": [
        "**Let us now plot the Receiver Operating Characteristics curve and find out area under the curve.**"
      ]
    },
    {
      "cell_type": "code",
      "metadata": {
        "id": "6ecPvJLJAOFN",
        "colab_type": "code",
        "colab": {}
      },
      "source": [
        "def plotROC(pred_mod,X,y):\n",
        "    mod_proba = pred_mod.predict_proba(X)\n",
        "    mod_proba = mod_proba[:, 1]\n",
        "    auc = metrics.roc_auc_score(y, mod_proba)\n",
        "    print('ROC AUC=%.3f' % (auc))\n",
        "    fpr, tpr, _ = metrics.roc_curve(y, mod_proba)\n",
        "    plt.plot(fpr, tpr, marker='.', label='Classifier')\n",
        "    plt.plot([0, 1], [0, 1],'r--')\n",
        "    plt.title('ROC Curve')\n",
        "    plt.xlabel('FPRate')\n",
        "    plt.ylabel('TPRate')\n",
        "    plt.legend()\n",
        "    plt.show()"
      ],
      "execution_count": 0,
      "outputs": []
    },
    {
      "cell_type": "code",
      "metadata": {
        "id": "A5NDsyBHBzls",
        "colab_type": "code",
        "colab": {
          "base_uri": "https://localhost:8080/",
          "height": 312
        },
        "outputId": "940f9291-df4f-4a8f-a079-8ef706a845ba"
      },
      "source": [
        "plotROC(logr_grid,X_test, y_test)"
      ],
      "execution_count": 178,
      "outputs": [
        {
          "output_type": "stream",
          "text": [
            "ROC AUC=0.792\n"
          ],
          "name": "stdout"
        },
        {
          "output_type": "display_data",
          "data": {
            "image/png": "[encoded data removed]",
            "text/plain": [
              "<Figure size 432x288 with 1 Axes>"
            ]
          },
          "metadata": {
            "tags": [],
            "needs_background": "light"
          }
        }
      ]
    },
    {
      "cell_type": "markdown",
      "metadata": {
        "id": "H3WS5uWS9xjs",
        "colab_type": "text"
      },
      "source": [
        "**Let's scale the data before proceeding for deep learning**"
      ]
    },
    {
      "cell_type": "code",
      "metadata": {
        "id": "n86mbtx9Id3M",
        "colab_type": "code",
        "colab": {}
      },
      "source": [
        "scaler = StandardScaler().fit(X_train)\n",
        "X_train=scaler.transform(X_train)\n",
        "X_test=scaler.transform(X_test)\n",
        "df_test=scaler.transform(df_test)"
      ],
      "execution_count": 0,
      "outputs": []
    },
    {
      "cell_type": "markdown",
      "metadata": {
        "id": "PotdUFpZG2o2",
        "colab_type": "text"
      },
      "source": [
        "#Artificial Neural Network"
      ]
    },
    {
      "cell_type": "markdown",
      "metadata": {
        "id": "H7Xy8egeG6UK",
        "colab_type": "text"
      },
      "source": [
        "**ANN with Zero Hidden Layers**"
      ]
    },
    {
      "cell_type": "code",
      "metadata": {
        "id": "5Px4hGc1Guy-",
        "colab_type": "code",
        "colab": {
          "base_uri": "https://localhost:8080/",
          "height": 185
        },
        "outputId": "e1343611-137a-44db-e139-e483cb516dcc"
      },
      "source": [
        "model=Sequential()\n",
        "model.add(Dense(1,activation='sigmoid',input_dim=16))\n",
        "model.summary()"
      ],
      "execution_count": 264,
      "outputs": [
        {
          "output_type": "stream",
          "text": [
            "Model: \"sequential_11\"\n",
            "_________________________________________________________________\n",
            "Layer (type)                 Output Shape              Param #   \n",
            "=================================================================\n",
            "dense_18 (Dense)             (None, 1)                 17        \n",
            "=================================================================\n",
            "Total params: 17\n",
            "Trainable params: 17\n",
            "Non-trainable params: 0\n",
            "_________________________________________________________________\n"
          ],
          "name": "stdout"
        }
      ]
    },
    {
      "cell_type": "code",
      "metadata": {
        "id": "VS43cgGghKU5",
        "colab_type": "code",
        "colab": {}
      },
      "source": [
        "from keras.wrappers.scikit_learn import KerasClassifier\n",
        "import keras\n",
        "ES = keras.callbacks.EarlyStopping(monitor='loss', min_delta=0, mode='auto', patience=5, verbose=0)"
      ],
      "execution_count": 0,
      "outputs": []
    },
    {
      "cell_type": "markdown",
      "metadata": {
        "id": "QcPBin-uiR6g",
        "colab_type": "text"
      },
      "source": [
        "**Implement callback in order to stop execution of model when the result is achieved. This will help save time in model execution.**"
      ]
    },
    {
      "cell_type": "markdown",
      "metadata": {
        "id": "Idut83kUHO4L",
        "colab_type": "text"
      },
      "source": [
        "**Displaying parameters of the best working model below.**\n",
        "\n",
        "**Find a display of various parameters used and their respective accuracies later in the report.**"
      ]
    },
    {
      "cell_type": "code",
      "metadata": {
        "id": "rnlPnMYqM4bw",
        "colab_type": "code",
        "colab": {
          "base_uri": "https://localhost:8080/",
          "height": 235
        },
        "outputId": "d2aba091-1879-44b7-e9a6-d42141a0228a"
      },
      "source": [
        "model.compile(loss='binary_crossentropy', optimizer='Adam', metrics=['accuracy'])\n",
        "model.fit(X_train, y_train, epochs=200, batch_size=16, callbacks=[ES])"
      ],
      "execution_count": 308,
      "outputs": [
        {
          "output_type": "stream",
          "text": [
            "Epoch 1/200\n",
            "33073/33073 [==============================] - 2s 63us/step - loss: 0.5616 - accuracy: 0.7259\n",
            "Epoch 2/200\n",
            "33073/33073 [==============================] - 2s 64us/step - loss: 0.5618 - accuracy: 0.7259\n",
            "Epoch 3/200\n",
            "33073/33073 [==============================] - 2s 64us/step - loss: 0.5619 - accuracy: 0.7256\n",
            "Epoch 4/200\n",
            "33073/33073 [==============================] - 2s 63us/step - loss: 0.5618 - accuracy: 0.7273\n",
            "Epoch 5/200\n",
            "33073/33073 [==============================] - 2s 63us/step - loss: 0.5619 - accuracy: 0.7255\n",
            "Epoch 6/200\n",
            "33073/33073 [==============================] - 2s 65us/step - loss: 0.5617 - accuracy: 0.7261\n"
          ],
          "name": "stdout"
        },
        {
          "output_type": "execute_result",
          "data": {
            "text/plain": [
              "<keras.callbacks.callbacks.History at 0x7fc8f90be898>"
            ]
          },
          "metadata": {
            "tags": []
          },
          "execution_count": 308
        }
      ]
    },
    {
      "cell_type": "code",
      "metadata": {
        "id": "G0tnGVAlONnd",
        "colab_type": "code",
        "colab": {
          "base_uri": "https://localhost:8080/",
          "height": 34
        },
        "outputId": "42ba8941-12e8-430f-8345-2837aea15949"
      },
      "source": [
        "y_pred = model.predict_classes(X_test)\n",
        "print(accuracy_score(y_test, y_pred))"
      ],
      "execution_count": 309,
      "outputs": [
        {
          "output_type": "stream",
          "text": [
            "0.7321340388007055\n"
          ],
          "name": "stdout"
        }
      ]
    },
    {
      "cell_type": "code",
      "metadata": {
        "id": "Ki0qeW8kS7yi",
        "colab_type": "code",
        "colab": {
          "base_uri": "https://localhost:8080/",
          "height": 34
        },
        "outputId": "92122bf3-843c-47f0-dfda-38cec669e7b2"
      },
      "source": [
        "print(recall_score(y_test, y_pred))"
      ],
      "execution_count": 310,
      "outputs": [
        {
          "output_type": "stream",
          "text": [
            "0.6841232554926074\n"
          ],
          "name": "stdout"
        }
      ]
    },
    {
      "cell_type": "markdown",
      "metadata": {
        "id": "_Rhrq_KwHjBZ",
        "colab_type": "text"
      },
      "source": [
        "**Hyperparameter tuning for ANN with 0 hidden layers**\n",
        "1. loss=binary_crossentropy, optimizer='sgd', epochs=20, batchsize=1 : 72.64%\n",
        "2. loss=binary_crossentropy, optimizer='Adam', epochs=30, batchsize=4 : 73.21%\n",
        "3. loss=binary_crossentropy, optimizer='Adam', epochs=40, batchsize=8 : 73.29%"
      ]
    },
    {
      "cell_type": "markdown",
      "metadata": {
        "id": "4_MsKs3rHv5k",
        "colab_type": "text"
      },
      "source": [
        "Finally, use the best working model to predict class variable Disease for the testing dataset."
      ]
    },
    {
      "cell_type": "code",
      "metadata": {
        "id": "9HDgIW6nOf5-",
        "colab_type": "code",
        "colab": {}
      },
      "source": [
        "ann0_pred = model.predict_classes(df_test)\n",
        "ann0_pred = ann0_pred.flatten()"
      ],
      "execution_count": 0,
      "outputs": []
    },
    {
      "cell_type": "markdown",
      "metadata": {
        "id": "k85kF8A9oMIj",
        "colab_type": "text"
      },
      "source": [
        "Comparison of Linear SVM, Logistic Regression, Single Layer Perceptron performance\n",
        "Accuracy of final model :\n",
        "1. Linear SVM : 73.2%\n",
        "2. Logistic Regression : 73.21%\n",
        "3. Single Layer Perceptron : 73.29%\n",
        "\n",
        "Final hyperparameters that gave above accuracy:\n",
        "1. Linear SVM : {max_iter = 4000, multi_class = 'crammer_singer'}\n",
        "2. Logistic Regression : {C:1, multi_class : 'ovr', penalty : 'l1', solver : 'liblinear'}\n",
        "3. Single Layer Perceptron : {loss = 'binary_crossentropy', optimizer = 'Adam', epochs = 40, batchsize = 8}\n",
        "\n",
        "All the above algorithms have a similar performance, with less than a 0.1% difference in their accuracy.\n",
        "\n",
        "Theoretically, SVM is based on geometrical properties of data whereas Logistic Regression is based on statistical practices.\n",
        "The risk of overfitting is less SVM. However, logistic regression is vulnerable to overfitting.\n",
        "Both SVM and LR perform well even with less data. Neural networks need large amounts of data. \n",
        "Neural networks are comparatively much slower than SVM and LR. But they tend to give better overall accuracy."
      ]
    },
    {
      "cell_type": "markdown",
      "metadata": {
        "id": "t7DIS9HGlyHL",
        "colab_type": "text"
      },
      "source": [
        "## **ANN with one hidden layer:**"
      ]
    },
    {
      "cell_type": "code",
      "metadata": {
        "id": "QvbPJ24Qlwsd",
        "colab_type": "code",
        "colab": {
          "base_uri": "https://localhost:8080/",
          "height": 218
        },
        "outputId": "cd26a57f-774a-475f-b125-26b04b1c6fe5"
      },
      "source": [
        "model1 = Sequential()\n",
        "model1.add(Dense(6, activation='relu', input_dim=16))\n",
        "model1.add(Dense(1, activation='sigmoid'))\n",
        "model1.summary()"
      ],
      "execution_count": 313,
      "outputs": [
        {
          "output_type": "stream",
          "text": [
            "Model: \"sequential_15\"\n",
            "_________________________________________________________________\n",
            "Layer (type)                 Output Shape              Param #   \n",
            "=================================================================\n",
            "dense_27 (Dense)             (None, 6)                 102       \n",
            "_________________________________________________________________\n",
            "dense_28 (Dense)             (None, 1)                 7         \n",
            "=================================================================\n",
            "Total params: 109\n",
            "Trainable params: 109\n",
            "Non-trainable params: 0\n",
            "_________________________________________________________________\n"
          ],
          "name": "stdout"
        }
      ]
    },
    {
      "cell_type": "markdown",
      "metadata": {
        "id": "WmL1iM0fIU-a",
        "colab_type": "text"
      },
      "source": [
        "**Displaying parameters of the best working model below.**\n",
        "\n",
        "**Find a display of various parameters used and their respective accuracies later in the report.**"
      ]
    },
    {
      "cell_type": "code",
      "metadata": {
        "id": "6HB8-vIRniYv",
        "colab_type": "code",
        "colab": {
          "base_uri": "https://localhost:8080/",
          "height": 1000
        },
        "outputId": "22b504eb-c041-4b85-b6d5-d870cde89ad0"
      },
      "source": [
        "model1.compile(loss='binary_crossentropy', optimizer='Adam', metrics=['accuracy'])\n",
        "model1.fit(X_train, y_train, epochs=200, batch_size=16, callbacks=[ES])"
      ],
      "execution_count": 314,
      "outputs": [
        {
          "output_type": "stream",
          "text": [
            "Epoch 1/200\n",
            "33073/33073 [==============================] - 2s 74us/step - loss: 0.5935 - accuracy: 0.6995\n",
            "Epoch 2/200\n",
            "33073/33073 [==============================] - 2s 70us/step - loss: 0.5534 - accuracy: 0.7300\n",
            "Epoch 3/200\n",
            "33073/33073 [==============================] - 2s 66us/step - loss: 0.5498 - accuracy: 0.7312\n",
            "Epoch 4/200\n",
            "33073/33073 [==============================] - 2s 68us/step - loss: 0.5480 - accuracy: 0.7310\n",
            "Epoch 5/200\n",
            "33073/33073 [==============================] - 2s 68us/step - loss: 0.5467 - accuracy: 0.7315\n",
            "Epoch 6/200\n",
            "33073/33073 [==============================] - 2s 65us/step - loss: 0.5462 - accuracy: 0.7312\n",
            "Epoch 7/200\n",
            "33073/33073 [==============================] - 2s 66us/step - loss: 0.5458 - accuracy: 0.7323\n",
            "Epoch 8/200\n",
            "33073/33073 [==============================] - 2s 67us/step - loss: 0.5454 - accuracy: 0.7335\n",
            "Epoch 9/200\n",
            "33073/33073 [==============================] - 2s 67us/step - loss: 0.5450 - accuracy: 0.7325\n",
            "Epoch 10/200\n",
            "33073/33073 [==============================] - 2s 66us/step - loss: 0.5448 - accuracy: 0.7332\n",
            "Epoch 11/200\n",
            "33073/33073 [==============================] - 2s 66us/step - loss: 0.5443 - accuracy: 0.7330\n",
            "Epoch 12/200\n",
            "33073/33073 [==============================] - 2s 67us/step - loss: 0.5442 - accuracy: 0.7317\n",
            "Epoch 13/200\n",
            "33073/33073 [==============================] - 2s 67us/step - loss: 0.5439 - accuracy: 0.7327\n",
            "Epoch 14/200\n",
            "33073/33073 [==============================] - 2s 68us/step - loss: 0.5436 - accuracy: 0.7325\n",
            "Epoch 15/200\n",
            "33073/33073 [==============================] - 2s 69us/step - loss: 0.5434 - accuracy: 0.7328\n",
            "Epoch 16/200\n",
            "33073/33073 [==============================] - 2s 66us/step - loss: 0.5433 - accuracy: 0.7320\n",
            "Epoch 17/200\n",
            "33073/33073 [==============================] - 2s 66us/step - loss: 0.5431 - accuracy: 0.7341\n",
            "Epoch 18/200\n",
            "33073/33073 [==============================] - 2s 68us/step - loss: 0.5432 - accuracy: 0.7317\n",
            "Epoch 19/200\n",
            "33073/33073 [==============================] - 2s 70us/step - loss: 0.5431 - accuracy: 0.7321\n",
            "Epoch 20/200\n",
            "33073/33073 [==============================] - 2s 67us/step - loss: 0.5429 - accuracy: 0.7329\n",
            "Epoch 21/200\n",
            "33073/33073 [==============================] - 2s 66us/step - loss: 0.5429 - accuracy: 0.7334\n",
            "Epoch 22/200\n",
            "33073/33073 [==============================] - 3s 77us/step - loss: 0.5427 - accuracy: 0.7319\n",
            "Epoch 23/200\n",
            "33073/33073 [==============================] - 2s 67us/step - loss: 0.5427 - accuracy: 0.7334\n",
            "Epoch 24/200\n",
            "33073/33073 [==============================] - 2s 73us/step - loss: 0.5426 - accuracy: 0.7317\n",
            "Epoch 25/200\n",
            "33073/33073 [==============================] - 2s 70us/step - loss: 0.5425 - accuracy: 0.7336\n",
            "Epoch 26/200\n",
            "33073/33073 [==============================] - 2s 67us/step - loss: 0.5426 - accuracy: 0.7335\n",
            "Epoch 27/200\n",
            "33073/33073 [==============================] - 2s 65us/step - loss: 0.5423 - accuracy: 0.7336\n",
            "Epoch 28/200\n",
            "33073/33073 [==============================] - 2s 67us/step - loss: 0.5425 - accuracy: 0.7325\n",
            "Epoch 29/200\n",
            "33073/33073 [==============================] - 2s 68us/step - loss: 0.5423 - accuracy: 0.7330\n",
            "Epoch 30/200\n",
            "33073/33073 [==============================] - 2s 68us/step - loss: 0.5423 - accuracy: 0.7315\n",
            "Epoch 31/200\n",
            "33073/33073 [==============================] - 2s 68us/step - loss: 0.5421 - accuracy: 0.7330\n",
            "Epoch 32/200\n",
            "33073/33073 [==============================] - 2s 67us/step - loss: 0.5419 - accuracy: 0.7324\n",
            "Epoch 33/200\n",
            "33073/33073 [==============================] - 2s 68us/step - loss: 0.5422 - accuracy: 0.7333\n",
            "Epoch 34/200\n",
            "33073/33073 [==============================] - 2s 66us/step - loss: 0.5421 - accuracy: 0.7334\n",
            "Epoch 35/200\n",
            "33073/33073 [==============================] - 2s 65us/step - loss: 0.5420 - accuracy: 0.7341\n",
            "Epoch 36/200\n",
            "33073/33073 [==============================] - 2s 66us/step - loss: 0.5420 - accuracy: 0.7325\n",
            "Epoch 37/200\n",
            "33073/33073 [==============================] - 2s 67us/step - loss: 0.5419 - accuracy: 0.7335\n",
            "Epoch 38/200\n",
            "33073/33073 [==============================] - 2s 69us/step - loss: 0.5418 - accuracy: 0.7332\n",
            "Epoch 39/200\n",
            "33073/33073 [==============================] - 2s 69us/step - loss: 0.5418 - accuracy: 0.7334\n",
            "Epoch 40/200\n",
            "33073/33073 [==============================] - 2s 67us/step - loss: 0.5419 - accuracy: 0.7340\n",
            "Epoch 41/200\n",
            "33073/33073 [==============================] - 2s 67us/step - loss: 0.5418 - accuracy: 0.7331\n",
            "Epoch 42/200\n",
            "33073/33073 [==============================] - 2s 68us/step - loss: 0.5416 - accuracy: 0.7340\n",
            "Epoch 43/200\n",
            "33073/33073 [==============================] - 2s 71us/step - loss: 0.5416 - accuracy: 0.7334\n",
            "Epoch 44/200\n",
            "33073/33073 [==============================] - 2s 65us/step - loss: 0.5420 - accuracy: 0.7336\n",
            "Epoch 45/200\n",
            "33073/33073 [==============================] - 2s 70us/step - loss: 0.5418 - accuracy: 0.7330\n",
            "Epoch 46/200\n",
            "33073/33073 [==============================] - 2s 67us/step - loss: 0.5418 - accuracy: 0.7339\n",
            "Epoch 47/200\n",
            "33073/33073 [==============================] - 2s 68us/step - loss: 0.5417 - accuracy: 0.7340\n"
          ],
          "name": "stdout"
        },
        {
          "output_type": "execute_result",
          "data": {
            "text/plain": [
              "<keras.callbacks.callbacks.History at 0x7fc8f86a23c8>"
            ]
          },
          "metadata": {
            "tags": []
          },
          "execution_count": 314
        }
      ]
    },
    {
      "cell_type": "code",
      "metadata": {
        "id": "a3VrDKhEn3nR",
        "colab_type": "code",
        "colab": {
          "base_uri": "https://localhost:8080/",
          "height": 34
        },
        "outputId": "3dfa9739-006b-4a41-99f5-06694637747f"
      },
      "source": [
        "y_pred = model1.predict_classes(X_test)\n",
        "print(accuracy_score(y_test, y_pred))"
      ],
      "execution_count": 315,
      "outputs": [
        {
          "output_type": "stream",
          "text": [
            "0.732910052910053\n"
          ],
          "name": "stdout"
        }
      ]
    },
    {
      "cell_type": "code",
      "metadata": {
        "id": "Do4nXGGfTDdN",
        "colab_type": "code",
        "colab": {
          "base_uri": "https://localhost:8080/",
          "height": 34
        },
        "outputId": "68d51a4d-0450-4bf0-8cd5-97b45a8492ca"
      },
      "source": [
        "print(recall_score(y_test, y_pred))"
      ],
      "execution_count": 316,
      "outputs": [
        {
          "output_type": "stream",
          "text": [
            "0.7207406383860716\n"
          ],
          "name": "stdout"
        }
      ]
    },
    {
      "cell_type": "markdown",
      "metadata": {
        "id": "67BnJJQIIZZx",
        "colab_type": "text"
      },
      "source": [
        "**Hyperparameter tuning**\n",
        "\n",
        "1. loss=binary_crossentropy, optimizer='sgd', epochs=20, batchsize=1, verbose=1 : 49.29%\n",
        "2. loss=binary_crossentropy, optimizer='Adam', epochs=30, batchsize=4 : 73.23%\n",
        "3. loss=binary_crossentropy, optimizer='Adam', epochs=40, batchsize=8 : 73.45%"
      ]
    },
    {
      "cell_type": "markdown",
      "metadata": {
        "id": "6zeEgVM7IjCJ",
        "colab_type": "text"
      },
      "source": [
        "**Use the best working model to predict the class variable Disease for the main testing dataset.**"
      ]
    },
    {
      "cell_type": "code",
      "metadata": {
        "id": "RhnuseqnoCy0",
        "colab_type": "code",
        "colab": {}
      },
      "source": [
        "ann1_pred = model1.predict_classes(df_test)"
      ],
      "execution_count": 0,
      "outputs": []
    },
    {
      "cell_type": "code",
      "metadata": {
        "id": "noRpoBl6ZoG0",
        "colab_type": "code",
        "colab": {}
      },
      "source": [
        "ann1_pred = ann1_pred.flatten()"
      ],
      "execution_count": 0,
      "outputs": []
    },
    {
      "cell_type": "markdown",
      "metadata": {
        "id": "-xulMHHbsVR8",
        "colab_type": "text"
      },
      "source": [
        "## **ANN with 2 hidden layers**"
      ]
    },
    {
      "cell_type": "code",
      "metadata": {
        "id": "Bd3owRcBsZL1",
        "colab_type": "code",
        "colab": {
          "base_uri": "https://localhost:8080/",
          "height": 252
        },
        "outputId": "d54242e6-395a-4078-ed8e-ed63a36c4655"
      },
      "source": [
        "model2 = Sequential()\n",
        "model2.add(Dense(6, activation='relu', input_dim=16))\n",
        "model2.add(Dense(6,activation='relu'))\n",
        "model2.add(Dense(1, activation='sigmoid'))\n",
        "model2.summary()"
      ],
      "execution_count": 321,
      "outputs": [
        {
          "output_type": "stream",
          "text": [
            "Model: \"sequential_16\"\n",
            "_________________________________________________________________\n",
            "Layer (type)                 Output Shape              Param #   \n",
            "=================================================================\n",
            "dense_29 (Dense)             (None, 6)                 102       \n",
            "_________________________________________________________________\n",
            "dense_30 (Dense)             (None, 6)                 42        \n",
            "_________________________________________________________________\n",
            "dense_31 (Dense)             (None, 1)                 7         \n",
            "=================================================================\n",
            "Total params: 151\n",
            "Trainable params: 151\n",
            "Non-trainable params: 0\n",
            "_________________________________________________________________\n"
          ],
          "name": "stdout"
        }
      ]
    },
    {
      "cell_type": "markdown",
      "metadata": {
        "id": "o-Rlz69fI9Kt",
        "colab_type": "text"
      },
      "source": [
        "**Displaying the model with best working parameters below.**\n",
        "\n",
        "**A summary of different parameters used along with their respective accuracies would be shown later in the report.**"
      ]
    },
    {
      "cell_type": "code",
      "metadata": {
        "id": "Jf-WYzNiuAMz",
        "colab_type": "code",
        "colab": {
          "base_uri": "https://localhost:8080/",
          "height": 1000
        },
        "outputId": "9ef284e7-160b-423f-fdf2-865698f4b42d"
      },
      "source": [
        "model2.compile(loss='binary_crossentropy', optimizer='Adam', metrics=['accuracy'])\n",
        "model2.fit(X_train, y_train, epochs=200, batch_size=16, callbacks=[ES])"
      ],
      "execution_count": 322,
      "outputs": [
        {
          "output_type": "stream",
          "text": [
            "Epoch 1/200\n",
            "33073/33073 [==============================] - 3s 76us/step - loss: 0.5805 - accuracy: 0.7081\n",
            "Epoch 2/200\n",
            "33073/33073 [==============================] - 2s 73us/step - loss: 0.5539 - accuracy: 0.7259\n",
            "Epoch 3/200\n",
            "33073/33073 [==============================] - 2s 69us/step - loss: 0.5490 - accuracy: 0.7301\n",
            "Epoch 4/200\n",
            "33073/33073 [==============================] - 2s 75us/step - loss: 0.5468 - accuracy: 0.7304\n",
            "Epoch 5/200\n",
            "33073/33073 [==============================] - 2s 75us/step - loss: 0.5454 - accuracy: 0.7314\n",
            "Epoch 6/200\n",
            "33073/33073 [==============================] - 2s 73us/step - loss: 0.5446 - accuracy: 0.7323\n",
            "Epoch 7/200\n",
            "33073/33073 [==============================] - 2s 72us/step - loss: 0.5440 - accuracy: 0.7327\n",
            "Epoch 8/200\n",
            "33073/33073 [==============================] - 2s 72us/step - loss: 0.5436 - accuracy: 0.7321\n",
            "Epoch 9/200\n",
            "33073/33073 [==============================] - 2s 71us/step - loss: 0.5431 - accuracy: 0.7329\n",
            "Epoch 10/200\n",
            "33073/33073 [==============================] - 2s 73us/step - loss: 0.5427 - accuracy: 0.7327\n",
            "Epoch 11/200\n",
            "33073/33073 [==============================] - 2s 75us/step - loss: 0.5425 - accuracy: 0.7316\n",
            "Epoch 12/200\n",
            "33073/33073 [==============================] - 3s 83us/step - loss: 0.5421 - accuracy: 0.7331\n",
            "Epoch 13/200\n",
            "33073/33073 [==============================] - 3s 79us/step - loss: 0.5424 - accuracy: 0.7328\n",
            "Epoch 14/200\n",
            "33073/33073 [==============================] - 3s 85us/step - loss: 0.5421 - accuracy: 0.7321\n",
            "Epoch 15/200\n",
            "33073/33073 [==============================] - 2s 75us/step - loss: 0.5419 - accuracy: 0.7336\n",
            "Epoch 16/200\n",
            "33073/33073 [==============================] - 2s 70us/step - loss: 0.5418 - accuracy: 0.7326\n",
            "Epoch 17/200\n",
            "33073/33073 [==============================] - 2s 75us/step - loss: 0.5416 - accuracy: 0.7332\n",
            "Epoch 18/200\n",
            "33073/33073 [==============================] - 2s 74us/step - loss: 0.5417 - accuracy: 0.7330\n",
            "Epoch 19/200\n",
            "33073/33073 [==============================] - 2s 71us/step - loss: 0.5414 - accuracy: 0.7338\n",
            "Epoch 20/200\n",
            "33073/33073 [==============================] - 2s 72us/step - loss: 0.5414 - accuracy: 0.7326\n",
            "Epoch 21/200\n",
            "33073/33073 [==============================] - 2s 72us/step - loss: 0.5410 - accuracy: 0.7333\n",
            "Epoch 22/200\n",
            "33073/33073 [==============================] - 2s 72us/step - loss: 0.5411 - accuracy: 0.7336\n",
            "Epoch 23/200\n",
            "33073/33073 [==============================] - 2s 73us/step - loss: 0.5408 - accuracy: 0.7327\n",
            "Epoch 24/200\n",
            "33073/33073 [==============================] - 2s 71us/step - loss: 0.5408 - accuracy: 0.7340\n",
            "Epoch 25/200\n",
            "33073/33073 [==============================] - 2s 71us/step - loss: 0.5407 - accuracy: 0.7338\n",
            "Epoch 26/200\n",
            "33073/33073 [==============================] - 2s 70us/step - loss: 0.5405 - accuracy: 0.7338\n",
            "Epoch 27/200\n",
            "33073/33073 [==============================] - 3s 78us/step - loss: 0.5406 - accuracy: 0.7330\n",
            "Epoch 28/200\n",
            "33073/33073 [==============================] - 2s 70us/step - loss: 0.5402 - accuracy: 0.7327\n",
            "Epoch 29/200\n",
            "33073/33073 [==============================] - 2s 70us/step - loss: 0.5403 - accuracy: 0.7338\n",
            "Epoch 30/200\n",
            "33073/33073 [==============================] - 2s 70us/step - loss: 0.5404 - accuracy: 0.7333\n",
            "Epoch 31/200\n",
            "33073/33073 [==============================] - 2s 71us/step - loss: 0.5401 - accuracy: 0.7329\n",
            "Epoch 32/200\n",
            "33073/33073 [==============================] - 2s 74us/step - loss: 0.5400 - accuracy: 0.7329\n",
            "Epoch 33/200\n",
            "33073/33073 [==============================] - 2s 70us/step - loss: 0.5400 - accuracy: 0.7332\n",
            "Epoch 34/200\n",
            "33073/33073 [==============================] - 2s 70us/step - loss: 0.5400 - accuracy: 0.7341\n",
            "Epoch 35/200\n",
            "33073/33073 [==============================] - 2s 72us/step - loss: 0.5399 - accuracy: 0.7337\n",
            "Epoch 36/200\n",
            "33073/33073 [==============================] - 2s 73us/step - loss: 0.5400 - accuracy: 0.7335\n",
            "Epoch 37/200\n",
            "33073/33073 [==============================] - 2s 73us/step - loss: 0.5399 - accuracy: 0.7330\n",
            "Epoch 38/200\n",
            "33073/33073 [==============================] - 3s 77us/step - loss: 0.5397 - accuracy: 0.7329\n",
            "Epoch 39/200\n",
            "33073/33073 [==============================] - 2s 73us/step - loss: 0.5398 - accuracy: 0.7332\n",
            "Epoch 40/200\n",
            "33073/33073 [==============================] - 3s 82us/step - loss: 0.5398 - accuracy: 0.7327\n",
            "Epoch 41/200\n",
            "33073/33073 [==============================] - 3s 76us/step - loss: 0.5398 - accuracy: 0.7335\n",
            "Epoch 42/200\n",
            "33073/33073 [==============================] - 2s 72us/step - loss: 0.5397 - accuracy: 0.7337\n",
            "Epoch 43/200\n",
            "33073/33073 [==============================] - 2s 70us/step - loss: 0.5397 - accuracy: 0.7336\n",
            "Epoch 44/200\n",
            "33073/33073 [==============================] - 2s 73us/step - loss: 0.5397 - accuracy: 0.7333\n",
            "Epoch 45/200\n",
            "33073/33073 [==============================] - 2s 71us/step - loss: 0.5397 - accuracy: 0.7332\n",
            "Epoch 46/200\n",
            "33073/33073 [==============================] - 2s 71us/step - loss: 0.5396 - accuracy: 0.7340\n",
            "Epoch 47/200\n",
            "33073/33073 [==============================] - 2s 71us/step - loss: 0.5394 - accuracy: 0.7331\n",
            "Epoch 48/200\n",
            "33073/33073 [==============================] - 2s 75us/step - loss: 0.5396 - accuracy: 0.7334\n",
            "Epoch 49/200\n",
            "33073/33073 [==============================] - 2s 72us/step - loss: 0.5394 - accuracy: 0.7330\n",
            "Epoch 50/200\n",
            "33073/33073 [==============================] - 2s 71us/step - loss: 0.5395 - accuracy: 0.7337\n",
            "Epoch 51/200\n",
            "33073/33073 [==============================] - 2s 74us/step - loss: 0.5394 - accuracy: 0.7341\n",
            "Epoch 52/200\n",
            "33073/33073 [==============================] - 2s 75us/step - loss: 0.5395 - accuracy: 0.7334\n",
            "Epoch 53/200\n",
            "33073/33073 [==============================] - 2s 73us/step - loss: 0.5393 - accuracy: 0.7335\n",
            "Epoch 54/200\n",
            "33073/33073 [==============================] - 2s 70us/step - loss: 0.5395 - accuracy: 0.7333\n",
            "Epoch 55/200\n",
            "33073/33073 [==============================] - 2s 73us/step - loss: 0.5394 - accuracy: 0.7344\n",
            "Epoch 56/200\n",
            "33073/33073 [==============================] - 2s 70us/step - loss: 0.5395 - accuracy: 0.7332\n",
            "Epoch 57/200\n",
            "33073/33073 [==============================] - 2s 73us/step - loss: 0.5394 - accuracy: 0.7339\n",
            "Epoch 58/200\n",
            "33073/33073 [==============================] - 2s 71us/step - loss: 0.5393 - accuracy: 0.7327\n",
            "Epoch 59/200\n",
            "33073/33073 [==============================] - 3s 91us/step - loss: 0.5391 - accuracy: 0.7338\n",
            "Epoch 60/200\n",
            "33073/33073 [==============================] - 4s 109us/step - loss: 0.5394 - accuracy: 0.7331\n",
            "Epoch 61/200\n",
            "33073/33073 [==============================] - 4s 110us/step - loss: 0.5391 - accuracy: 0.7344\n",
            "Epoch 62/200\n",
            "33073/33073 [==============================] - 3s 93us/step - loss: 0.5393 - accuracy: 0.7331\n",
            "Epoch 63/200\n",
            "33073/33073 [==============================] - 2s 71us/step - loss: 0.5393 - accuracy: 0.7327\n",
            "Epoch 64/200\n",
            "33073/33073 [==============================] - 2s 71us/step - loss: 0.5393 - accuracy: 0.7325\n",
            "Epoch 65/200\n",
            "33073/33073 [==============================] - 2s 71us/step - loss: 0.5394 - accuracy: 0.7326\n",
            "Epoch 66/200\n",
            "33073/33073 [==============================] - 2s 73us/step - loss: 0.5393 - accuracy: 0.7328\n"
          ],
          "name": "stdout"
        },
        {
          "output_type": "execute_result",
          "data": {
            "text/plain": [
              "<keras.callbacks.callbacks.History at 0x7fc8f85aecc0>"
            ]
          },
          "metadata": {
            "tags": []
          },
          "execution_count": 322
        }
      ]
    },
    {
      "cell_type": "code",
      "metadata": {
        "id": "JWkA8yFPuiYy",
        "colab_type": "code",
        "colab": {
          "base_uri": "https://localhost:8080/",
          "height": 34
        },
        "outputId": "694a03c3-5212-4c16-ca64-9531e31d3b01"
      },
      "source": [
        "y_pred = model2.predict_classes(X_test)\n",
        "print(accuracy_score(y_test, y_pred))"
      ],
      "execution_count": 323,
      "outputs": [
        {
          "output_type": "stream",
          "text": [
            "0.7339682539682539\n"
          ],
          "name": "stdout"
        }
      ]
    },
    {
      "cell_type": "code",
      "metadata": {
        "id": "iYYyHJe1THHo",
        "colab_type": "code",
        "colab": {
          "base_uri": "https://localhost:8080/",
          "height": 34
        },
        "outputId": "96c7fa58-fc94-4bcb-9b38-ca93a6ec5534"
      },
      "source": [
        "print(recall_score(y_test, y_pred))"
      ],
      "execution_count": 324,
      "outputs": [
        {
          "output_type": "stream",
          "text": [
            "0.69849385104325\n"
          ],
          "name": "stdout"
        }
      ]
    },
    {
      "cell_type": "markdown",
      "metadata": {
        "id": "FTbovOw6JN0_",
        "colab_type": "text"
      },
      "source": [
        "**Hyperparameter tuning**\n",
        "\n",
        "1. loss=binary_crossentropy, optimizer='sgd', epochs=20, batchsize=1 : 73.33%\n",
        "\n",
        "2. loss=binary_crossentropy, optimizer='Adam', epochs=30, batchsize=4 : 73.35%\n",
        "\n",
        "3. loss=binary_crossentropy, optimizer='Adam', epochs=40, batchsize=8 : 73.46%"
      ]
    },
    {
      "cell_type": "markdown",
      "metadata": {
        "id": "NIxYlzkGJVs2",
        "colab_type": "text"
      },
      "source": [
        "**Finally, use the best working model to predict the class variable Disease for the testing dataset.**"
      ]
    },
    {
      "cell_type": "code",
      "metadata": {
        "id": "sYBB0Kguuq7e",
        "colab_type": "code",
        "colab": {}
      },
      "source": [
        "ann2_pred = model2.predict_classes(df_test)"
      ],
      "execution_count": 0,
      "outputs": []
    },
    {
      "cell_type": "code",
      "metadata": {
        "id": "WmqLj2EiahqK",
        "colab_type": "code",
        "colab": {}
      },
      "source": [
        "ann2_pred = ann2_pred.flatten()"
      ],
      "execution_count": 0,
      "outputs": []
    },
    {
      "cell_type": "markdown",
      "metadata": {
        "id": "rIhsMKeOJgA7",
        "colab_type": "text"
      },
      "source": [
        "## **Decision Tree Classifier**"
      ]
    },
    {
      "cell_type": "code",
      "metadata": {
        "id": "4WpMphlr_VC2",
        "colab_type": "code",
        "colab": {}
      },
      "source": [
        "OUTPUT_COL = 'Disease'\n",
        "df_X = df_train_dt.loc[:, df_train_dt.columns != OUTPUT_COL]\n",
        "df_y = df_train_dt[OUTPUT_COL]\n",
        "\n",
        "df_train_X, df_val_X, df_train_y, df_val_y = train_test_split(df_X, df_y, test_size=0.3, random_state=47)"
      ],
      "execution_count": 0,
      "outputs": []
    },
    {
      "cell_type": "markdown",
      "metadata": {
        "id": "TIrn9IatJmGr",
        "colab_type": "text"
      },
      "source": [
        "**Use the train and test dataframes created specifically for decision tree and split them into 70:30 ratio.**\n",
        "\n",
        "**Train the classifier with default parameters and check accuracy.**"
      ]
    },
    {
      "cell_type": "code",
      "metadata": {
        "id": "-tchP0ulEL7-",
        "colab_type": "code",
        "colab": {
          "base_uri": "https://localhost:8080/",
          "height": 34
        },
        "outputId": "939f0d09-b4c5-4d92-add2-caf66baaf2e8"
      },
      "source": [
        "dtc = DecisionTreeClassifier(random_state=47).fit(df_train_X, df_train_y)\n",
        "\n",
        "val_pred_dtc = dtc.predict(df_val_X)\n",
        "print(accuracy_score(df_val_y, val_pred_dtc))"
      ],
      "execution_count": 193,
      "outputs": [
        {
          "output_type": "stream",
          "text": [
            "0.6214462081128748\n"
          ],
          "name": "stdout"
        }
      ]
    },
    {
      "cell_type": "markdown",
      "metadata": {
        "id": "37NNF8gvJ7zU",
        "colab_type": "text"
      },
      "source": [
        "## **Hyperparameter tuning**\n",
        "\n",
        "**Let us now fine tune the model to improve its performance using GridSearchCV() and extracting parameters that lead to the best performing model.**"
      ]
    },
    {
      "cell_type": "code",
      "metadata": {
        "id": "9EqkZIOOGCOg",
        "colab_type": "code",
        "colab": {
          "base_uri": "https://localhost:8080/",
          "height": 118
        },
        "outputId": "881a948e-d04c-43bd-fd9d-fc15cddc4fac"
      },
      "source": [
        "dc= DecisionTreeClassifier()\n",
        "parametersDT = {'criterion':['gini','entropy'],'min_samples_split':[2,5,9,11], 'max_depth':[5,8,13], 'min_samples_leaf':[5,9,13], 'max_leaf_nodes':[40,50,60], 'random_state':[23,47]}\n",
        "dt_grid = GridSearchCV(dc, parametersDT, n_jobs=-1, cv=4)\n",
        "\n",
        "dt_grid.fit(df_train_X,df_train_y)\n",
        "dt_grid.best_params_"
      ],
      "execution_count": 194,
      "outputs": [
        {
          "output_type": "execute_result",
          "data": {
            "text/plain": [
              "{'criterion': 'gini',\n",
              " 'max_depth': 8,\n",
              " 'max_leaf_nodes': 40,\n",
              " 'min_samples_leaf': 13,\n",
              " 'min_samples_split': 2,\n",
              " 'random_state': 23}"
            ]
          },
          "metadata": {
            "tags": []
          },
          "execution_count": 194
        }
      ]
    },
    {
      "cell_type": "code",
      "metadata": {
        "id": "A_5f0nAzIACj",
        "colab_type": "code",
        "colab": {
          "base_uri": "https://localhost:8080/",
          "height": 34
        },
        "outputId": "f845cdff-74fc-4b3a-8cf3-eee4cf726a77"
      },
      "source": [
        "y_pred = dt_grid.predict(df_val_X)\n",
        "print(accuracy_score(df_val_y, y_pred))"
      ],
      "execution_count": 195,
      "outputs": [
        {
          "output_type": "stream",
          "text": [
            "0.7331216931216932\n"
          ],
          "name": "stdout"
        }
      ]
    },
    {
      "cell_type": "code",
      "metadata": {
        "id": "3u8JDG1rIyYk",
        "colab_type": "code",
        "colab": {
          "base_uri": "https://localhost:8080/",
          "height": 34
        },
        "outputId": "9cde7f56-86f7-47ff-d94b-55a9c007f9a3"
      },
      "source": [
        "print(recall_score(df_val_y, y_pred))"
      ],
      "execution_count": 196,
      "outputs": [
        {
          "output_type": "stream",
          "text": [
            "0.6946280991735537\n"
          ],
          "name": "stdout"
        }
      ]
    },
    {
      "cell_type": "markdown",
      "metadata": {
        "id": "vEo2IPRkKY6V",
        "colab_type": "text"
      },
      "source": [
        "**Summary of [model parameters : accuracy]**\n",
        "1. [DecisionTreeClassifier(random_state=47) : 62.14%]\n",
        "\n",
        "Post hyperparamter tuning, parameters yielding maximum accuracy:\n",
        "\n",
        "2. [{'criterion': 'gini', 'max_depth': 8, 'max_leaf_nodes': 40, 'min_samples_leaf': 13, 'min_samples_split': 2, 'random_state': 23} : 73.31%]"
      ]
    },
    {
      "cell_type": "markdown",
      "metadata": {
        "id": "VzkgnZrPaQx8",
        "colab_type": "text"
      },
      "source": [
        "**Let us now use the model with best performance to classify Disease as Yes/No (1/0) for the final testing dataset.** "
      ]
    },
    {
      "cell_type": "code",
      "metadata": {
        "id": "rhin7GxaIs9x",
        "colab_type": "code",
        "colab": {}
      },
      "source": [
        "dt_pred = dt_grid.predict(df_test_dt)"
      ],
      "execution_count": 0,
      "outputs": []
    },
    {
      "cell_type": "code",
      "metadata": {
        "id": "pSetbescJNFE",
        "colab_type": "code",
        "colab": {
          "base_uri": "https://localhost:8080/",
          "height": 295
        },
        "outputId": "ee0176c1-80db-42fe-e1ec-0d04ed3a54d5"
      },
      "source": [
        "fpr, tpr, threshold = roc_curve(df_val_y, y_pred)\n",
        "plt.plot(fpr, tpr, label='AUC: %0.2f' % auc(fpr, tpr))\n",
        "plt.plot([0, 1], [0, 1], '--', lw=2)\n",
        "plt.title('ROC')\n",
        "plt.xlabel('FPR')\n",
        "plt.ylabel('TPR')\n",
        "plt.legend()\n",
        "plt.show()"
      ],
      "execution_count": 198,
      "outputs": [
        {
          "output_type": "display_data",
          "data": {
            "image/png": "[encoded data removed]",
            "text/plain": [
              "<Figure size 432x288 with 1 Axes>"
            ]
          },
          "metadata": {
            "tags": [],
            "needs_background": "light"
          }
        }
      ]
    },
    {
      "cell_type": "markdown",
      "metadata": {
        "id": "YjbHKywIatJ6",
        "colab_type": "text"
      },
      "source": [
        "**Thus, area under the curve for decision tree ROC curve is 0.73.**"
      ]
    },
    {
      "cell_type": "markdown",
      "metadata": {
        "id": "C-qDowePa44g",
        "colab_type": "text"
      },
      "source": [
        "#Model Performance Summary"
      ]
    },
    {
      "cell_type": "markdown",
      "metadata": {
        "id": "76Kqll7akmVU",
        "colab_type": "text"
      },
      "source": [
        "**Name of Algorithm  ||  Key Hyperparameters Tuned  ||     Accuracy    ||  Recall  ||  Time to Run**\n",
        "\n",
        "________________________________________________________________________________\n",
        "Gradient Boost || loss, n_estimators || 73.9% || 71.14 || 6 seconds\n",
        "\n",
        "Non-linear SVM (RBF) || kernel, C, gamma || 73.9% || 69.22 || 18 seconds\n",
        "\n",
        "ANN with 2 Hidden || loss, optimizer, epochs, batchsize || 73.46% || 67.86 || 3 mins 5 secs\n",
        "\n",
        "ANN with 1 Hidden || loss, optimizer, epochs, batchsize || 73.45% || 68.71 || 2 mins 51 secs\n",
        "\n",
        "Decision Tree || criterion, max_depth, max_leaf_nodes, min_samples_leaf, min_samples_split, random_state || 73.31% || 69.46 || 2 secs\n",
        "\n",
        "ANN with 0 Hidden || loss, optimizer, epochs, batchsize || 73.29% || 69.14 || 2 mins 39 secs\n",
        "\n",
        "Logistic Regression || C, multi_class, penalty, solver ||  73.17% || 69.16 || 3 secs\n",
        "\n",
        "Linear SVM || max_iter, multi_class || 73.17% || 65.1 || 12 secs\n",
        "\n",
        "K-Nearest Neighbors || n_neighbors, p, leaf_size || 72.71% || 69.18 || 3 secs\n",
        "\n",
        "Random Forest || n_estimators, max_features || 71.27% || 71.67 || 3 secs\n",
        "\n",
        "Naive Bayes  ||  Default  || 69.63% || 56.04 || 2 secs\n",
        "\n"
      ]
    },
    {
      "cell_type": "markdown",
      "metadata": {
        "id": "f54FxWWBUltA",
        "colab_type": "text"
      },
      "source": [
        "Thus, to summarize, overall accuracy range lie between 69 to 74%. Gradient boost provides with the highest accuracy and is one of the fastest algorithms. Non-linear SVM using RBF function, decision tree, logistic regression, linear SVM also provide with top accuracies and take very little time to run. ANN with 0 hidden layers, 1 and 2 hidden layers provide top accuracies, but take up time to run. Other algorithms such as KNN, RF and Naive bayes do not take much time, but they do not provide very high accuracy score."
      ]
    },
    {
      "cell_type": "code",
      "metadata": {
        "id": "FJVlnbVIbQ8c",
        "colab_type": "code",
        "colab": {}
      },
      "source": [
        "#feature importance\n",
        "from sklearn.ensemble import GradientBoostingClassifier as gbm\n",
        "from sklearn.ensemble import RandomForestClassifier\n",
        "\n",
        "df_train_X, df_val_X, df_train_y, df_val_y = train_test_split(X, y, test_size=0.3, random_state=47)\n",
        "\n",
        "model_rf = RandomForestClassifier(n_estimators=45, max_features=2)\n",
        "model_rf.fit(df_train_X, df_train_y)\n",
        "rfc_pred = model_rf.predict(df_val_X)\n",
        "\n",
        "model_g = gbm(loss='exponential', n_estimators=103)\n",
        "model_g.fit(df_train_X, df_train_y)\n",
        "gbm_pred = model_g.predict(df_val_X)"
      ],
      "execution_count": 0,
      "outputs": []
    },
    {
      "cell_type": "code",
      "metadata": {
        "id": "D2UFaeARmpQi",
        "colab_type": "code",
        "colab": {
          "base_uri": "https://localhost:8080/",
          "height": 521
        },
        "outputId": "c61d229e-55a9-4b62-eae4-016030b957c0"
      },
      "source": [
        "f_imp_rf = pd.DataFrame(model_rf.feature_importances_, index=X.columns, columns=['imp']).sort_values('imp',ascending=False)\n",
        "f_imp_rf"
      ],
      "execution_count": 23,
      "outputs": [
        {
          "output_type": "execute_result",
          "data": {
            "text/html": [
              "<div>\n",
              "<style scoped>\n",
              "    .dataframe tbody tr th:only-of-type {\n",
              "        vertical-align: middle;\n",
              "    }\n",
              "\n",
              "    .dataframe tbody tr th {\n",
              "        vertical-align: top;\n",
              "    }\n",
              "\n",
              "    .dataframe thead th {\n",
              "        text-align: right;\n",
              "    }\n",
              "</style>\n",
              "<table border=\"1\" class=\"dataframe\">\n",
              "  <thead>\n",
              "    <tr style=\"text-align: right;\">\n",
              "      <th></th>\n",
              "      <th>imp</th>\n",
              "    </tr>\n",
              "  </thead>\n",
              "  <tbody>\n",
              "    <tr>\n",
              "      <th>Weight</th>\n",
              "      <td>0.233937</td>\n",
              "    </tr>\n",
              "    <tr>\n",
              "      <th>Height</th>\n",
              "      <td>0.204706</td>\n",
              "    </tr>\n",
              "    <tr>\n",
              "      <th>Age</th>\n",
              "      <td>0.191057</td>\n",
              "    </tr>\n",
              "    <tr>\n",
              "      <th>High Blood Pressure</th>\n",
              "      <td>0.179380</td>\n",
              "    </tr>\n",
              "    <tr>\n",
              "      <th>Low Blood Pressure</th>\n",
              "      <td>0.108566</td>\n",
              "    </tr>\n",
              "    <tr>\n",
              "      <th>Cholesterol-too high</th>\n",
              "      <td>0.019389</td>\n",
              "    </tr>\n",
              "    <tr>\n",
              "      <th>Cholesterol-normal</th>\n",
              "      <td>0.014791</td>\n",
              "    </tr>\n",
              "    <tr>\n",
              "      <th>Exercise</th>\n",
              "      <td>0.011252</td>\n",
              "    </tr>\n",
              "    <tr>\n",
              "      <th>Smoke</th>\n",
              "      <td>0.006901</td>\n",
              "    </tr>\n",
              "    <tr>\n",
              "      <th>Alcohol</th>\n",
              "      <td>0.006062</td>\n",
              "    </tr>\n",
              "    <tr>\n",
              "      <th>Cholesterol-high</th>\n",
              "      <td>0.005867</td>\n",
              "    </tr>\n",
              "    <tr>\n",
              "      <th>Glucose-normal</th>\n",
              "      <td>0.004596</td>\n",
              "    </tr>\n",
              "    <tr>\n",
              "      <th>Gender-male</th>\n",
              "      <td>0.003779</td>\n",
              "    </tr>\n",
              "    <tr>\n",
              "      <th>Gender-female</th>\n",
              "      <td>0.003581</td>\n",
              "    </tr>\n",
              "    <tr>\n",
              "      <th>Glucose-too high</th>\n",
              "      <td>0.003508</td>\n",
              "    </tr>\n",
              "    <tr>\n",
              "      <th>Glucose-high</th>\n",
              "      <td>0.002629</td>\n",
              "    </tr>\n",
              "  </tbody>\n",
              "</table>\n",
              "</div>"
            ],
            "text/plain": [
              "                           imp\n",
              "Weight                0.233937\n",
              "Height                0.204706\n",
              "Age                   0.191057\n",
              "High Blood Pressure   0.179380\n",
              "Low Blood Pressure    0.108566\n",
              "Cholesterol-too high  0.019389\n",
              "Cholesterol-normal    0.014791\n",
              "Exercise              0.011252\n",
              "Smoke                 0.006901\n",
              "Alcohol               0.006062\n",
              "Cholesterol-high      0.005867\n",
              "Glucose-normal        0.004596\n",
              "Gender-male           0.003779\n",
              "Gender-female         0.003581\n",
              "Glucose-too high      0.003508\n",
              "Glucose-high          0.002629"
            ]
          },
          "metadata": {
            "tags": []
          },
          "execution_count": 23
        }
      ]
    },
    {
      "cell_type": "markdown",
      "metadata": {
        "id": "R4yPSAGrnIyh",
        "colab_type": "text"
      },
      "source": [
        "Above is feature importance table from Random Forest model built. It has been sorted in a descending order of importance of features from the main dataset. Thus, from the perspective of RF, weight is most important, followed by Height, then age and so on."
      ]
    },
    {
      "cell_type": "code",
      "metadata": {
        "id": "GIxOVdOglC9q",
        "colab_type": "code",
        "colab": {
          "base_uri": "https://localhost:8080/",
          "height": 521
        },
        "outputId": "fe5b2885-5af4-4cd3-c058-19d45b31a86f"
      },
      "source": [
        "f_imp_gb = pd.DataFrame(model_g.feature_importances_, index=X.columns, columns=['imp']).sort_values('imp',ascending=False)\n",
        "f_imp_gb"
      ],
      "execution_count": 22,
      "outputs": [
        {
          "output_type": "execute_result",
          "data": {
            "text/html": [
              "<div>\n",
              "<style scoped>\n",
              "    .dataframe tbody tr th:only-of-type {\n",
              "        vertical-align: middle;\n",
              "    }\n",
              "\n",
              "    .dataframe tbody tr th {\n",
              "        vertical-align: top;\n",
              "    }\n",
              "\n",
              "    .dataframe thead th {\n",
              "        text-align: right;\n",
              "    }\n",
              "</style>\n",
              "<table border=\"1\" class=\"dataframe\">\n",
              "  <thead>\n",
              "    <tr style=\"text-align: right;\">\n",
              "      <th></th>\n",
              "      <th>imp</th>\n",
              "    </tr>\n",
              "  </thead>\n",
              "  <tbody>\n",
              "    <tr>\n",
              "      <th>High Blood Pressure</th>\n",
              "      <td>0.714135</td>\n",
              "    </tr>\n",
              "    <tr>\n",
              "      <th>Age</th>\n",
              "      <td>0.124201</td>\n",
              "    </tr>\n",
              "    <tr>\n",
              "      <th>Cholesterol-too high</th>\n",
              "      <td>0.054037</td>\n",
              "    </tr>\n",
              "    <tr>\n",
              "      <th>Low Blood Pressure</th>\n",
              "      <td>0.029356</td>\n",
              "    </tr>\n",
              "    <tr>\n",
              "      <th>Weight</th>\n",
              "      <td>0.025050</td>\n",
              "    </tr>\n",
              "    <tr>\n",
              "      <th>Cholesterol-normal</th>\n",
              "      <td>0.023638</td>\n",
              "    </tr>\n",
              "    <tr>\n",
              "      <th>Height</th>\n",
              "      <td>0.008991</td>\n",
              "    </tr>\n",
              "    <tr>\n",
              "      <th>Exercise</th>\n",
              "      <td>0.005597</td>\n",
              "    </tr>\n",
              "    <tr>\n",
              "      <th>Glucose-too high</th>\n",
              "      <td>0.003421</td>\n",
              "    </tr>\n",
              "    <tr>\n",
              "      <th>Smoke</th>\n",
              "      <td>0.003249</td>\n",
              "    </tr>\n",
              "    <tr>\n",
              "      <th>Glucose-normal</th>\n",
              "      <td>0.003106</td>\n",
              "    </tr>\n",
              "    <tr>\n",
              "      <th>Alcohol</th>\n",
              "      <td>0.002212</td>\n",
              "    </tr>\n",
              "    <tr>\n",
              "      <th>Glucose-high</th>\n",
              "      <td>0.001812</td>\n",
              "    </tr>\n",
              "    <tr>\n",
              "      <th>Gender-female</th>\n",
              "      <td>0.000690</td>\n",
              "    </tr>\n",
              "    <tr>\n",
              "      <th>Cholesterol-high</th>\n",
              "      <td>0.000324</td>\n",
              "    </tr>\n",
              "    <tr>\n",
              "      <th>Gender-male</th>\n",
              "      <td>0.000181</td>\n",
              "    </tr>\n",
              "  </tbody>\n",
              "</table>\n",
              "</div>"
            ],
            "text/plain": [
              "                           imp\n",
              "High Blood Pressure   0.714135\n",
              "Age                   0.124201\n",
              "Cholesterol-too high  0.054037\n",
              "Low Blood Pressure    0.029356\n",
              "Weight                0.025050\n",
              "Cholesterol-normal    0.023638\n",
              "Height                0.008991\n",
              "Exercise              0.005597\n",
              "Glucose-too high      0.003421\n",
              "Smoke                 0.003249\n",
              "Glucose-normal        0.003106\n",
              "Alcohol               0.002212\n",
              "Glucose-high          0.001812\n",
              "Gender-female         0.000690\n",
              "Cholesterol-high      0.000324\n",
              "Gender-male           0.000181"
            ]
          },
          "metadata": {
            "tags": []
          },
          "execution_count": 22
        }
      ]
    },
    {
      "cell_type": "markdown",
      "metadata": {
        "id": "Cq01zL6TnTQd",
        "colab_type": "text"
      },
      "source": [
        "Above is feature importance table from Gradient Boosting Machine model built. It has been sorted in a descending order of importance of variables from the dataset. Thus, from the perspective of GBM, High Blood Pressure is most important, followed by Age, then Cholesterol level and so on."
      ]
    },
    {
      "cell_type": "markdown",
      "metadata": {
        "id": "NHep42qdm0dr",
        "colab_type": "text"
      },
      "source": [
        "**Finally, push results in a csv file:**"
      ]
    },
    {
      "cell_type": "code",
      "metadata": {
        "id": "t-RXORSj86YH",
        "colab_type": "code",
        "colab": {}
      },
      "source": [
        "final = {\n",
        "    'ID' : df_test_copy.ID,\n",
        "    'DT' : dt_pred,\n",
        "    'LR' : logr_pred,\n",
        "    'ANN0' : ann0_pred,\n",
        "    'ANN1' : ann1_pred,\n",
        "    'ANN2' : ann2_pred\n",
        "}"
      ],
      "execution_count": 0,
      "outputs": []
    },
    {
      "cell_type": "code",
      "metadata": {
        "id": "v9nc67dsNgyw",
        "colab_type": "code",
        "colab": {}
      },
      "source": [
        "final_df = pd.DataFrame(final)\n",
        "final_df.to_csv('FinalOutputDis.csv')"
      ],
      "execution_count": 0,
      "outputs": []
    }
  ]
}